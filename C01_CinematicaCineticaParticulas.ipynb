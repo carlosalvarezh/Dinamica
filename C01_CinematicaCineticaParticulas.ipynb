{
 "cells": [
  {
   "cell_type": "markdown",
   "id": "0dddbb6f",
   "metadata": {},
   "source": [
    "<h1 align=\"center\">Dinámica</h1>\n",
    "<h1 align=\"center\">Capítulo 1: Cinemática y Cinética de partículas</h1>\n",
    "<h1 align=\"center\">2021/02</h1>\n",
    "<h1 align=\"center\">MEDELLÍN - COLOMBIA </h1>"
   ]
  },
  {
   "cell_type": "markdown",
   "id": "d58fa6cf",
   "metadata": {},
   "source": [
    "<table>\n",
    " <tr align=left><td><img align=left src=\"https://github.com/carlosalvarezh/Dinamica/blob/main/Figs/CC-BY.png?raw=true\">\n",
    " <td>Text provided under a Creative Commons Attribution license, CC-BY. All code is made available under the FSF-approved MIT license.(c) Carlos Alberto Alvarez Henao</td>\n",
    "</table> "
   ]
  },
  {
   "cell_type": "markdown",
   "id": "f0b61344",
   "metadata": {},
   "source": [
    "*** \n",
    "\n",
    "***Docente:*** Carlos Alberto Álvarez Henao, I.C. D.Sc.\n",
    "\n",
    "***e-mail:*** carlosalvarezh@gmail.com\n",
    "\n",
    "***skype:*** carlos.alberto.alvarez.henao\n",
    "\n",
    "***Linkedin:*** https://www.linkedin.com/in/carlosalvarez5/\n",
    "\n",
    "***github:*** https://github.com/carlosalvarezh/Dinamica\n",
    "\n",
    "***Herramienta:*** [Jupyter](http://jupyter.org/)\n",
    "\n",
    "***Kernel:*** Python 3.9\n",
    "\n",
    "\n",
    "***"
   ]
  },
  {
   "cell_type": "markdown",
   "id": "c7f30889",
   "metadata": {
    "toc": true
   },
   "source": [
    "<h1>Tabla de Contenidos<span class=\"tocSkip\"></span></h1>\n",
    "<div class=\"toc\"><ul class=\"toc-item\"><li><span><a href=\"#Dinámica\" data-toc-modified-id=\"Dinámica-1\"><span class=\"toc-item-num\">1&nbsp;&nbsp;</span>Dinámica</a></span><ul class=\"toc-item\"><li><span><a href=\"#Ubicación-de-la-dinámica-en-la-Física\" data-toc-modified-id=\"Ubicación-de-la-dinámica-en-la-Física-1.1\"><span class=\"toc-item-num\">1.1&nbsp;&nbsp;</span>Ubicación de la dinámica en la Física</a></span></li><li><span><a href=\"#Definiciones\" data-toc-modified-id=\"Definiciones-1.2\"><span class=\"toc-item-num\">1.2&nbsp;&nbsp;</span>Definiciones</a></span></li><li><span><a href=\"#Estrategia-para-la-solución-de-problemas\" data-toc-modified-id=\"Estrategia-para-la-solución-de-problemas-1.3\"><span class=\"toc-item-num\">1.3&nbsp;&nbsp;</span>Estrategia para la solución de problemas</a></span></li></ul></li><li><span><a href=\"#Cinemática-rectilínea---Movimiento-continuo\" data-toc-modified-id=\"Cinemática-rectilínea---Movimiento-continuo-2\"><span class=\"toc-item-num\">2&nbsp;&nbsp;</span>Cinemática rectilínea - Movimiento continuo</a></span><ul class=\"toc-item\"><li><span><a href=\"#Consideraciones\" data-toc-modified-id=\"Consideraciones-2.1\"><span class=\"toc-item-num\">2.1&nbsp;&nbsp;</span>Consideraciones</a></span></li><li><span><a href=\"#Posición\" data-toc-modified-id=\"Posición-2.2\"><span class=\"toc-item-num\">2.2&nbsp;&nbsp;</span>Posición</a></span></li><li><span><a href=\"#Desplazamiento\" data-toc-modified-id=\"Desplazamiento-2.3\"><span class=\"toc-item-num\">2.3&nbsp;&nbsp;</span>Desplazamiento</a></span></li><li><span><a href=\"#Velocidad\" data-toc-modified-id=\"Velocidad-2.4\"><span class=\"toc-item-num\">2.4&nbsp;&nbsp;</span>Velocidad</a></span></li><li><span><a href=\"#Aceleración\" data-toc-modified-id=\"Aceleración-2.5\"><span class=\"toc-item-num\">2.5&nbsp;&nbsp;</span>Aceleración</a></span></li><li><span><a href=\"#Aceleración-constante\" data-toc-modified-id=\"Aceleración-constante-2.6\"><span class=\"toc-item-num\">2.6&nbsp;&nbsp;</span>Aceleración constante</a></span><ul class=\"toc-item\"><li><span><a href=\"#Velocidad-como-función-del-tiempo\" data-toc-modified-id=\"Velocidad-como-función-del-tiempo-2.6.1\"><span class=\"toc-item-num\">2.6.1&nbsp;&nbsp;</span>Velocidad como función del tiempo</a></span></li><li><span><a href=\"#Posición-como-función-del-tiempo\" data-toc-modified-id=\"Posición-como-función-del-tiempo-2.6.2\"><span class=\"toc-item-num\">2.6.2&nbsp;&nbsp;</span>Posición como función del tiempo</a></span></li><li><span><a href=\"#Velocidad-como-función-de-la-posición\" data-toc-modified-id=\"Velocidad-como-función-de-la-posición-2.6.3\"><span class=\"toc-item-num\">2.6.3&nbsp;&nbsp;</span>Velocidad como función de la posición</a></span></li><li><span><a href=\"#Observaciones\" data-toc-modified-id=\"Observaciones-2.6.4\"><span class=\"toc-item-num\">2.6.4&nbsp;&nbsp;</span>Observaciones</a></span></li></ul></li><li><span><a href=\"#Recapitulando\" data-toc-modified-id=\"Recapitulando-2.7\"><span class=\"toc-item-num\">2.7&nbsp;&nbsp;</span>Recapitulando</a></span></li><li><span><a href=\"#Ejemplos\" data-toc-modified-id=\"Ejemplos-2.8\"><span class=\"toc-item-num\">2.8&nbsp;&nbsp;</span>Ejemplos</a></span><ul class=\"toc-item\"><li><span><a href=\"#Desplazamiento-rectilíneo-de-un-Automovil\" data-toc-modified-id=\"Desplazamiento-rectilíneo-de-un-Automovil-2.8.1\"><span class=\"toc-item-num\">2.8.1&nbsp;&nbsp;</span>Desplazamiento rectilíneo de un Automovil</a></span></li><li><span><a href=\"#Altura-máxima-cohete\" data-toc-modified-id=\"Altura-máxima-cohete-2.8.2\"><span class=\"toc-item-num\">2.8.2&nbsp;&nbsp;</span>Altura máxima cohete</a></span></li><li><span><a href=\"#Partícula-en-campo-magnético\" data-toc-modified-id=\"Partícula-en-campo-magnético-2.8.3\"><span class=\"toc-item-num\">2.8.3&nbsp;&nbsp;</span>Partícula en campo magnético</a></span></li></ul></li></ul></li><li><span><a href=\"#Cinemática-rectilínea:-Movimiento-variable\" data-toc-modified-id=\"Cinemática-rectilínea:-Movimiento-variable-3\"><span class=\"toc-item-num\">3&nbsp;&nbsp;</span>Cinemática rectilínea: Movimiento variable</a></span><ul class=\"toc-item\"><li><span><a href=\"#Gráficas-de-$s-t$,-$v-t$-y-$a-t$\" data-toc-modified-id=\"Gráficas-de-$s-t$,-$v-t$-y-$a-t$-3.1\"><span class=\"toc-item-num\">3.1&nbsp;&nbsp;</span>Gráficas de $s-t$, $v-t$ y $a-t$</a></span></li></ul></li></ul></div>"
   ]
  },
  {
   "cell_type": "markdown",
   "id": "2708280d",
   "metadata": {},
   "source": [
    "<p float=\"center\">\n",
    "  <img src=\"https://github.com/carlosalvarezh/Dinamica/blob/main/Figs/C01Fig01_Dynamics.PNG?raw=true\" width=\"750\" />\n",
    "</p>\n",
    "\n",
    "<div style=\"text-align: right\"> Fuente: <a href=\"https://www.engineer4free.com/dynamics.html\">Engineer4Free</a> </div>\n"
   ]
  },
  {
   "cell_type": "markdown",
   "id": "7e8f8bd5",
   "metadata": {},
   "source": [
    "***Introducción***\n",
    "\n",
    "Estas notas son extraídas principalmente de los textos de Dinámica de [Hibbeler](https://www.pearson.com/us/higher-education/product/Hibbeler-Engineering-Mechanics-Dynamics-14th-Edition/9780133915389.html) y [Beer&Johnston](https://www.amazon.com/Vector-Mechanics-Engineers-Ferdinand-Beer/dp/0077402324), así como también de la revisión de extensa literatura en internet. Las referencias se indicarán en cada apartado. Se hace uso de la herramienta [Jupyter Notebook](https://jupyter.org/) empleando el lenguaje de programación [python](https://python.org/) en la versión estable más reciente\n",
    "\n"
   ]
  },
  {
   "cell_type": "markdown",
   "id": "d0723fd4",
   "metadata": {},
   "source": [
    "## Dinámica"
   ]
  },
  {
   "cell_type": "markdown",
   "id": "0c231bd7",
   "metadata": {},
   "source": [
    "Parte de la física que estudia la relación existente entre las fuerzas que actúan sobre un cuerpo y los efectos que se producirán sobre el movimiento de ese cuerpo.\n",
    "\n",
    "<p float=\"center\">\n",
    "  <img src=\"https://github.com/carlosalvarezh/Dinamica/blob/main/Figs/C01Fig02_Dynamics.jpg?raw=true\" width=\"350\" />\n",
    "</p>\n",
    "\n",
    "<div style=\"text-align: right\"> Fuente: <a href=\"https://www.engineer4free.com/dynamics.html\">Engineer4Free</a> </div>\n"
   ]
  },
  {
   "cell_type": "markdown",
   "id": "aa1735ce",
   "metadata": {},
   "source": [
    "### Ubicación de la dinámica en la Física"
   ]
  },
  {
   "cell_type": "markdown",
   "id": "a82f4465",
   "metadata": {},
   "source": [
    "\n",
    "<p float=\"center\">\n",
    "  <img src=\"https://github.com/carlosalvarezh/Dinamica/blob/main/Figs/C01Fig03_Physics_Dynamics.png?raw=true\" width=\"500\" />\n",
    "</p>\n",
    "\n",
    "<div style=\"text-align: right\"> Fuente: <a href=\"https://wikisabio.com/las-ramas-de-la-fisica/\">Wikisabio</a> </div>\n"
   ]
  },
  {
   "cell_type": "markdown",
   "id": "f3cfe628",
   "metadata": {},
   "source": [
    "### Definiciones"
   ]
  },
  {
   "cell_type": "markdown",
   "id": "2a120928",
   "metadata": {},
   "source": [
    "- ***Mecánica:*** Se ocupa del estado de reposo o movimiento de cuerpos sometidos a la acción de fuerzas.\n",
    "\n",
    "\n",
    "- ***Estática:*** Se ocupa del equilibrio de un cuerpo que está en reposo o que se mueve con velocidad constante. \n",
    "\n",
    "\n",
    "- ***Dinámica:*** Se ocupa del movimiento acelerado de un cuerpo. \n",
    "\n",
    "\n",
    "- ***Cinemática:*** Trata sólo los aspectos geométricos del movimiento.\n",
    "\n",
    "\n",
    "- ***Cinética:*** Analiza las fuerzas que provocan el movimiento.\n",
    "\n",
    "\n",
    "Para desarrollar estos principios, primero se analizará la dinámica de una partícula, y a continuación se abordarán temas de dinámica de un cuerpo rígido en dos y luego en tres dimensiones."
   ]
  },
  {
   "cell_type": "markdown",
   "id": "ed43f60c",
   "metadata": {},
   "source": [
    "### Estrategia para la solución de problemas"
   ]
  },
  {
   "cell_type": "markdown",
   "id": "8495fe2f",
   "metadata": {},
   "source": [
    "- Lea el problema con cuidado y trate de correlacionar la situación física real con la teoría que haya estudiado.\n",
    "\n",
    "\n",
    "- Trace todos los diagramas necesarios y tabule los datos del problema.\n",
    "\n",
    "\n",
    "- Establezca un sistema de coordenadas y aplique los principios pertinentes, casi siempre en forma matemática.\n",
    "\n",
    "\n",
    "- Resuelva de manera algebraica las ecuaciones necesarias hasta donde sea práctico; luego, utilice un conjunto consistente de unidades y complete la solución numéricamente. Reporte la respuesta sin más cifras significativas que la precisión de los datos dados.\n",
    "\n",
    "\n",
    "- Estudie la respuesta con juicio técnico y sentido común para determinar si parece o no razonable.\n",
    "\n",
    "\n",
    "- Una vez completadas las soluciones, repase el problema. Trate de pensar en otras formas de obtener la misma solución.\n"
   ]
  },
  {
   "cell_type": "markdown",
   "id": "2192e9c6",
   "metadata": {},
   "source": [
    "## Cinemática rectilínea - Movimiento continuo"
   ]
  },
  {
   "cell_type": "markdown",
   "id": "24d65c5a",
   "metadata": {},
   "source": [
    "### Consideraciones"
   ]
  },
  {
   "cell_type": "markdown",
   "id": "cf3adb9d",
   "metadata": {},
   "source": [
    "<p float=\"center\">\n",
    "  <img src=\"https://github.com/carlosalvarezh/Dinamica/blob/main/Figs/C01Fig04_FreeBody.png?raw=true\" width=\"500\" />\n",
    "</p>\n",
    "\n",
    "<div style=\"text-align: right\"> Fuente: <a href=\"https://www.pinterest.dk/pin/424182858630895556/?amp_client_id=CLIENT_ID(_)&mweb_unauth_id=\">Pinterest</a> </div>\n",
    "\n",
    "\n",
    "- Los cuerpos se consideran de tamaño finito, como partícula, y el movimiento del cuerpo como un todo se caracteriza por el movimiento de su centro de masa, sin rotación.\n",
    "\n",
    "\n",
    "- Se considera la partícula con masa, y su tamaño y forma son indiferentes.\n",
    "\n",
    "\n",
    "- Se presenta la partícula moviéndose a lo largo de una trayectoria rectilínea.\n",
    "\n",
    "\n",
    "- La cinemática de una partícula se caracteriza al especificar, en cualquier instante, su posición, desplazamiento, velocidad y aceleración."
   ]
  },
  {
   "cell_type": "markdown",
   "id": "288335f3",
   "metadata": {},
   "source": [
    "### Posición"
   ]
  },
  {
   "cell_type": "markdown",
   "id": "fd7a6f93",
   "metadata": {},
   "source": [
    "<p float=\"center\">\n",
    "  <img src=\"https://github.com/carlosalvarezh/Dinamica/blob/main/Figs/C01Fig05_Position.png\n",
    "?raw=true\" width=\"400\" />\n",
    "</p>\n",
    "\n",
    "<div style=\"text-align: right\"> Fuente: <a href=\"https://www.pearson.com/us/higher-education/product/Hibbeler-Engineering-Mechanics-Dynamics-14th-Edition/9780133915389.html\n",
    "\">Hibbeler R. Engineering Mechanics: Dynamics</a> </div>\n",
    "\n",
    "La trayectoria rectilínea de una partícula se definirá por medio de un solo eje de coordenadas $s$. \n",
    "\n",
    "El origen $O$ en la trayectoria es un punto fijo, y a partir de él se utiliza la coordenada de posición s para especificar la ubicación de la partícula en cualquier instante dado. La magnitud de $s$ es la distancia de $O$ a la partícula (en unidades de longitud), y su signo algebraico define el sentido de su dirección.\n",
    "\n",
    "La posición es una cantidad vectorial puesto que tiene tanto magnitud como dirección, aunque en este caso se representa por el escalar algebraico $s$ puesto que la dirección se mantiene a lo largo del eje de coordenadas.\n"
   ]
  },
  {
   "cell_type": "markdown",
   "id": "131d6d44",
   "metadata": {},
   "source": [
    "### Desplazamiento"
   ]
  },
  {
   "cell_type": "markdown",
   "id": "f9036ec7",
   "metadata": {},
   "source": [
    "<p float=\"center\">\n",
    "  <img src=\"https://github.com/carlosalvarezh/Dinamica/blob/main/Figs/C01Fig06_Desplazamiento.png\n",
    "?raw=true\" width=\"400\" />\n",
    "</p>\n",
    "\n",
    "<div style=\"text-align: right\"> Fuente: <a href=\"https://www.pearson.com/us/higher-education/product/Hibbeler-Engineering-Mechanics-Dynamics-14th-Edition/9780133915389.html\n",
    "\">Hibbeler R. Engineering Mechanics: Dynamics</a> </div>\n",
    "\n",
    "El desplazamiento de la partícula se define como el cambio de su posición, y es dado por:\n",
    "\n",
    "<a id='Ec1_1'></a>\n",
    "\\begin{equation*}\n",
    "\\Delta s= s'-s\n",
    "\\label{eq:Ec1_1} \\tag{1.1}\n",
    "\\end{equation*}\n",
    "\n",
    "En este caso $\\Delta s$ es positivo puesto que la posición final de la partícula queda a la derecha de su posición inicial, es decir, $s'>s$. Asimismo, si la posición final quedara a la izquierda de su posición inicial, $\\Delta s$ sería negativo.\n",
    "\n",
    "El desplazamiento de una partícula también es una cantidad vectorial, y deberá distinguirse de la distancia que recorre la partícula. Específicamente, la distancia recorrida es un escalar positivo que representa la longitud total de la trayectoria a lo largo de la cual viaja la partícula."
   ]
  },
  {
   "cell_type": "markdown",
   "id": "901d1a19",
   "metadata": {},
   "source": [
    "### Velocidad"
   ]
  },
  {
   "cell_type": "markdown",
   "id": "45d7f14b",
   "metadata": {},
   "source": [
    "<p float=\"center\">\n",
    "  <img src=\"https://github.com/carlosalvarezh/Dinamica/blob/main/Figs/C01Fig07_Velocidad.png\n",
    "?raw=true\" width=\"400\" />\n",
    "</p>\n",
    "\n",
    "<div style=\"text-align: right\"> Fuente: <a href=\"https://www.pearson.com/us/higher-education/product/Hibbeler-Engineering-Mechanics-Dynamics-14th-Edition/9780133915389.html\n",
    "\">Hibbeler R. Engineering Mechanics: Dynamics</a> </div>\n",
    "\n",
    "Si la partícula recorre una distancia $\\Delta s$ durante el intervalo $\\Delta t$, su velocidad promedio durante este intervalo es\n",
    "\n",
    "<a id='Ec1_2'></a>\n",
    "\\begin{equation*}\n",
    "\\textbf{v}_{prom}=\\frac{\\Delta s}{\\Delta t}\n",
    "\\label{eq:Ec1_2} \\tag{1.2}\n",
    "\\end{equation*}\n",
    "\n",
    "La velocidad instantánea es una cantidad vectorial definida como \n",
    "\n",
    "<a id='Ec1_3'></a>\n",
    "\\begin{equation*}\n",
    "\\textbf{v}=\\lim_{\\Delta t \\rightarrow 0}\\frac{\\Delta s}{\\Delta t}=\\frac{ds}{dt}\n",
    "\\label{eq:Ec1_3} \\tag{1.3}\n",
    "\\end{equation*}\n",
    "\n",
    "Como la dirección temporal siempre será positiva, entonces el signo para determinar el sentido de la velocidad le corresponderá a $ds$. La magnitud de la velocidad es lo que se conoce como *rapidez*."
   ]
  },
  {
   "cell_type": "markdown",
   "id": "d42454a0",
   "metadata": {},
   "source": [
    "### Aceleración"
   ]
  },
  {
   "cell_type": "markdown",
   "id": "d4d9a3a0",
   "metadata": {},
   "source": [
    "<p float=\"center\">\n",
    "  <img src=\"https://github.com/carlosalvarezh/Dinamica/blob/main/Figs/C01Fig08_Aceleracion.png\n",
    "?raw=true\" width=\"400\" />\n",
    "</p>\n",
    "\n",
    "<div style=\"text-align: right\"> Fuente: <a href=\"https://www.pearson.com/us/higher-education/product/Hibbeler-Engineering-Mechanics-Dynamics-14th-Edition/9780133915389.html\n",
    "\">Hibbeler R. Engineering Mechanics: Dynamics</a> </div>\n",
    "\n",
    "Conocida la velocidad de la partícula en dos puntos, la aceleración promedio en un intervalo de tiempo $\\Delta t$ está dada por\n",
    "\n",
    "<a id='Ec1_4'></a>\n",
    "\\begin{equation*}\n",
    "\\textbf{a}_{prom}=\\frac{\\Delta \\textbf{v}}{\\Delta t}\n",
    "\\label{eq:Ec1_4} \\tag{1.4}\n",
    "\\end{equation*}\n",
    "\n",
    "La aceleración instantánea es una cantidad vectorial definida como \n",
    "\n",
    "<a id='Ec1_5'></a>\n",
    "\\begin{equation*}\n",
    "\\textbf{a}=\\lim_{\\Delta t \\rightarrow 0}\\frac{\\Delta \\textbf{v}}{\\Delta t}=\\frac{d\\textbf{v}}{dt}\n",
    "\\label{eq:Ec1_5} \\tag{1.5}\n",
    "\\end{equation*}\n",
    "\n",
    "La aceleración también se puede interpretar como la segunda derivada del desplazamiento respecto al tiempo.\n",
    "Una relación diferencial que incluye el desplazamiento, la velocidad y la aceleración a lo largo de una trayectoria, eliminando la dependencia del tiempo es:\n",
    "\n",
    "<a id='Ec1_6'></a>\n",
    "\\begin{equation*}\n",
    "\\textbf{a}ds=\\textbf{v}d\\textbf{v}\n",
    "\\label{eq:Ec1_6} \\tag{1.6}\n",
    "\\end{equation*}\n"
   ]
  },
  {
   "cell_type": "markdown",
   "id": "5bd957d6",
   "metadata": {},
   "source": [
    "### Aceleración constante"
   ]
  },
  {
   "cell_type": "markdown",
   "id": "1bc4bab3",
   "metadata": {},
   "source": [
    "Si la aceleración es constante, se pueden integrar las tres ecuaciones cinemáticas vistas:\n",
    "\n",
    "$$\\textbf{a}_c=\\frac{d\\textbf{v}}{dt}; \\quad \\textbf{v}=\\frac{ds}{dt}; \\quad \\textbf{a}ds=\\textbf{v}d\\textbf{v}$$\n"
   ]
  },
  {
   "cell_type": "markdown",
   "id": "ba7fdee6",
   "metadata": {},
   "source": [
    "#### Velocidad como función del tiempo"
   ]
  },
  {
   "cell_type": "markdown",
   "id": "6ae1684d",
   "metadata": {},
   "source": [
    "Integrando $a_c=\\frac{d\\textbf{v}}{dt}$, con condiciones iniciales $\\textbf{v}=v_0$ cuando $𝑡=0$\n",
    "\n",
    "$$\\int_{v_0}^v d\\textbf{v} = \\int_0^t a_c dt$$\n",
    "\n",
    "Se llega a\n",
    "\n",
    "<a id='Ec1_7'></a>\n",
    "\\begin{equation*}\n",
    "\\textbf{v} = v_0 + a_c t\n",
    "\\label{eq:Ec1_7} \\tag{1.7}\n",
    "\\end{equation*}\n"
   ]
  },
  {
   "cell_type": "markdown",
   "id": "327f5151",
   "metadata": {},
   "source": [
    "#### Posición como función del tiempo"
   ]
  },
  {
   "cell_type": "markdown",
   "id": "8a3c2722",
   "metadata": {},
   "source": [
    "Integrando $\\textbf{v}=ds/dt=v_0 + a_c t$, con condiciones iniciales $s=s_0$ cuando $𝑡=0$\n",
    "\n",
    "$$\\int_{s_0}^s ds = \\int_0^t (v_0 +a_c t) dt$$\n",
    "\n",
    "Se llega a\n",
    "\n",
    "<a id='Ec1_8'></a>\n",
    "\\begin{equation*}\n",
    "s = s_0 + v_0 t +\\frac{1}{2} a_c t^2\n",
    "\\label{eq:Ec1_8} \\tag{1.8}\n",
    "\\end{equation*}\n"
   ]
  },
  {
   "cell_type": "markdown",
   "id": "341fa326",
   "metadata": {},
   "source": [
    "#### Velocidad como función de la posición"
   ]
  },
  {
   "cell_type": "markdown",
   "id": "8605a0a5",
   "metadata": {},
   "source": [
    "Integrando $\\textbf{v}d\\textbf{v}=a_c ds$, con condiciones iniciales $v=v_0$ cuando $s=s_0$\n",
    "\n",
    "$$\\int_{v_0}^v \\textbf{v}d\\textbf{v} = \\int_{s_0}^s a_c ds$$\n",
    "\n",
    "Se llega a\n",
    "\n",
    "<a id='Ec1_9'></a>\n",
    "\\begin{equation*}\n",
    "v^2 = v_0^2 + 2a_c (s-s_0)\n",
    "\\label{eq:Ec1_9} \\tag{1.9}\n",
    "\\end{equation*}"
   ]
  },
  {
   "cell_type": "markdown",
   "id": "f01bf4db",
   "metadata": {},
   "source": [
    "#### Observaciones"
   ]
  },
  {
   "cell_type": "markdown",
   "id": "34a50130",
   "metadata": {},
   "source": [
    "- Las ecuaciones anteriores son útiles cuando la aceleración es constante y cuando $t=0$, $s=s_0$ y $v=v_0$.\n",
    "\n",
    "\n",
    "- Si se conoce una relación entre dos de las cuatro variables, $\\textbf{a}$, $\\textbf{v}$, $s$ y $t$, entonces se puede obtener una tercera variable con una de las ecuaciones cinemáticas, $\\textbf{a}=d\\textbf{v}/dt$, $\\textbf{v}=ds/dt$ o $\\textbf{a}ds=\\textbf{v}d\\textbf{v}$, puesto que cada ecuación relaciona las tres variables.\n",
    "\n",
    "\n",
    "- Siempre que se realice una integración, es importante que se conozcan la posición y la velocidad en un instante dado para evaluar o la constante de integración si se utiliza una integral indefinida, o los límites de integración si se utiliza una integral definida."
   ]
  },
  {
   "cell_type": "markdown",
   "id": "919791c5",
   "metadata": {},
   "source": [
    "### Recapitulando"
   ]
  },
  {
   "cell_type": "markdown",
   "id": "2f3c190f",
   "metadata": {},
   "source": [
    "- La dinámica se ocupa de cuerpos que tienen movimiento acelerado.\n",
    "\n",
    "\n",
    "- La cinemática es un estudio de la geometría del movimiento.\n",
    "\n",
    "\n",
    "- La cinética es un estudio de las fuerzas que causan el movimiento.\n",
    "\n",
    "\n",
    "- La cinemática rectilínea se refiere al movimiento en línea recta.\n",
    "\n",
    "\n",
    "- La rapidez se refiere a la magnitud de la velocidad.\n",
    "\n",
    "\n",
    "- La rapidez promedio es la distancia total recorrida, dividida entre el tiempo total. Ésta es diferente de la velocidad promedio, la cual es el desplazamiento dividido entre el tiempo.\n",
    "\n",
    "\n",
    "- Una partícula que reduce el paso está desacelerando.\n",
    "\n",
    "\n",
    "- Una partícula puede tener una aceleración y al mismo tiempo una velocidad cero.\n",
    "\n",
    "\n",
    "- La relación $\\textbf{a}ds=\\textbf{v} d\\textbf{v}$ se deriva de $\\textbf{a}=d\\textbf{v}/dt$ y $\\textbf{v}=ds/dt$, al eliminar $dt$.\n"
   ]
  },
  {
   "cell_type": "markdown",
   "id": "4e46f27c",
   "metadata": {},
   "source": [
    "### Ejemplos"
   ]
  },
  {
   "cell_type": "markdown",
   "id": "8abfbfc4",
   "metadata": {},
   "source": [
    "#### Desplazamiento rectilíneo de un Automovil"
   ]
  },
  {
   "cell_type": "markdown",
   "id": "3e3c411d",
   "metadata": {},
   "source": [
    "<table id=\"mytable\" border=0> \n",
    "<tr> \n",
    "<td rowspan=\"2\"> <img src=\"https://github.com/carlosalvarezh/Dinamica/blob/main/Figs/C01Fig09_Ej1_Automovil.PNG\n",
    "?raw=true\" width=\"800\"/> \n",
    "</td>\n",
    "<td style=\"height:50%\">\n",
    "<div style=\"text-align: right\"> <b>Ejemplo 12.1:</b> <a href=\"https://www.pearson.com/us/higher-education/product/Hibbeler-Engineering-Mechanics-Dynamics-14th-Edition/9780133915389.html\n",
    "\">Hibbeler R. Engineering Mechanics: Dynamics</a> </div>\n",
    "\n",
    "<p>El automóvil de la figura se desplaza en línea recta de modo que durante un corto tiempo su velocidad está definida por $\\textbf{v}=3t^2 + 2t$ pies/s, donde $t$ está en segundos. Determine su posición y aceleración cuando $t = 3 s$. Cuando $t = 0, s = 0$.</p>\n",
    "</td>\n",
    "</tr>\n",
    "</table>\n",
    "\n",
    "Vamos a resolver el ejemplo de dos formas: Analítica y computacionalmente.\n",
    "\n",
    "\n",
    "***Solución analítica:***\n",
    "\n",
    "- ***Sistema de coordenadas:*** Se establece el sistema de coordenadas en sentido horizontal, con origen en el punto $O$, positivo a la derecha.\n",
    "\n",
    "\n",
    "- ***Posición:*** como la velocidad es una función del tiempo, $\\textbf{v}=f(t)$, la posición se determina de la  [(Ec1.3)](#Ec1_3). Reemplazando\n",
    "\n",
    "$$\\textbf{v}=3t^2 + 2t=\\frac{ds}{dt}$$\n",
    "\n",
    "realizando la separación de variables e integrando el espacio, $s$, entre $0$ y $s$ y el tiempo, $t$, entre $0$ y $t$:\n",
    "\n",
    "$$\\int_0^s ds=\\int_0^t(3t^2+2t)dt$$\n",
    "\n",
    "$$\\left. s\\right|_0^s= \\left. t^3+t^2 \\right|_0^t$$\n",
    "\n",
    "cuando $t=3 s$\n",
    "\n",
    "$$s(3)=3^3+3^2 =36 pies$$\n",
    "\n",
    "\n",
    "- ***Aceleración***\n",
    "La aceleración también es función del tiempo y se determina de ecuación [(Ec1.5)](#Ec1_5).\n",
    "\n",
    "$$\\textbf{a}=\\frac{d(3t^2 + 2t)}{dt}=\\frac{d\\textbf{v}}{dt}$$\n",
    "\n",
    "realizando la separación de variables e integrando:\n",
    "\n",
    "$$\\textbf{a}=6t+2$$\n",
    "\n",
    "cuando $t=3 s$\n",
    "\n",
    "$$a(3)=6(3)+2=20 \\text{pies/s}^2$$ "
   ]
  },
  {
   "cell_type": "markdown",
   "id": "e3423cce",
   "metadata": {},
   "source": [
    "***Solución computacional:***\n",
    "\n",
    "Ahora vamos a resolver el ejemplo computacionalmente empleando el módulo [`sympy`](https://www.sympy.org/en/index.html) de `python`. Primero, se carga el módulo de cálculo simbólico, que nos permitirá obtener expresiones analíticas de la posición y la aceleración, que serán evaluadas en el tiempo solicitado. Para la impresión de algunos resultados de forma analítica se empleará el módulo [`mathjax`](https://www.mathjax.org/)."
   ]
  },
  {
   "cell_type": "code",
   "execution_count": 9,
   "id": "77af075d",
   "metadata": {},
   "outputs": [],
   "source": [
    "from sympy import *\n",
    "t = symbols('t')\n",
    "init_printing(use_latex='mathjax')"
   ]
  },
  {
   "cell_type": "markdown",
   "id": "df005802",
   "metadata": {},
   "source": [
    "Generamos una expresión para la función velocidad, como fue dada en el enunciado"
   ]
  },
  {
   "cell_type": "code",
   "execution_count": 10,
   "id": "592702f5",
   "metadata": {},
   "outputs": [],
   "source": [
    "def v(t):\n",
    "    \n",
    "    \"\"\"\n",
    "    Función velocidad\n",
    "        función para determinar la velocidad en función del tiempo, t.\n",
    "    \n",
    "    Input:\n",
    "        Cadena de caracteres en donde t es la varible.\n",
    "    \n",
    "    Output:\n",
    "        Cadena de caracteres.\n",
    "        \n",
    "    Ejemplo:\n",
    "        3 * t**2 + 2 * t\n",
    "    \"\"\"\n",
    "\n",
    "    # Ingresando la función a través del teclado (descomentar las dos líneas siguientes y comentar la última línea)\n",
    "    #veloc = input(\"Ingrese la función correspondiente a la velocidad, v(t): \")\n",
    "    #return veloc\n",
    "\n",
    "    # escribiendo la función directamente dentro del módulo (comentar las dos líneas anteriores)\n",
    "    return 3 * t**2 + 2 * t"
   ]
  },
  {
   "cell_type": "markdown",
   "id": "2f231471",
   "metadata": {},
   "source": [
    "Visualizando la integral de la velocidad a ser calculada de forma analítica"
   ]
  },
  {
   "cell_type": "code",
   "execution_count": 11,
   "id": "80084d92",
   "metadata": {
    "scrolled": true
   },
   "outputs": [
    {
     "data": {
      "text/latex": [
       "$\\displaystyle \\int\\limits_{0}^{t} \\left(3 t^{2} + 2 t\\right)\\, dt$"
      ],
      "text/plain": [
       "t                \n",
       "⌠                \n",
       "⎮ ⎛   2      ⎞   \n",
       "⎮ ⎝3⋅t  + 2⋅t⎠ dt\n",
       "⌡                \n",
       "0                "
      ]
     },
     "execution_count": 11,
     "metadata": {},
     "output_type": "execute_result"
    }
   ],
   "source": [
    "Integral(v(t),(t,0,t))"
   ]
  },
  {
   "cell_type": "markdown",
   "id": "435fdb65",
   "metadata": {},
   "source": [
    "Integrando analíticamente la expresión de la velocidad, para obtener una expresión de la posición:"
   ]
  },
  {
   "cell_type": "code",
   "execution_count": 12,
   "id": "db7fa2d6",
   "metadata": {},
   "outputs": [
    {
     "data": {
      "text/latex": [
       "$\\displaystyle t^{3} + t^{2}$"
      ],
      "text/plain": [
       " 3    2\n",
       "t  + t "
      ]
     },
     "execution_count": 12,
     "metadata": {},
     "output_type": "execute_result"
    }
   ],
   "source": [
    "pos = integrate(v(t),(t,0,t))\n",
    "pos"
   ]
  },
  {
   "cell_type": "markdown",
   "id": "276ae962",
   "metadata": {},
   "source": [
    "Evaluando la expresión del espacio obtenida con la integración, en $t=3s$"
   ]
  },
  {
   "cell_type": "code",
   "execution_count": 14,
   "id": "bdaf19e5",
   "metadata": {},
   "outputs": [
    {
     "name": "stdout",
     "output_type": "stream",
     "text": [
      "La posición que tendrá el vehículo despues de 3 seg será de 36 pies\n"
     ]
    }
   ],
   "source": [
    "print(\"La posición que tendrá el vehículo despues de 3 seg será de {0} pies\".format(pos.subs(t,3)))"
   ]
  },
  {
   "cell_type": "markdown",
   "id": "08b08b89",
   "metadata": {},
   "source": [
    "Ahora vamos a determinar una expresión para la aceleración, derivando la expresión dada de la velocidad "
   ]
  },
  {
   "cell_type": "code",
   "execution_count": 15,
   "id": "18721ea4",
   "metadata": {},
   "outputs": [
    {
     "name": "stdout",
     "output_type": "stream",
     "text": [
      "6*t + 2\n"
     ]
    }
   ],
   "source": [
    "acel = diff(v(t),t)\n",
    "print(acel)"
   ]
  },
  {
   "cell_type": "markdown",
   "id": "7a8c2fa8",
   "metadata": {},
   "source": [
    "Por último, evaluamos la expresión de la aceleración obtenida con la derivada de la velociad respecto al tiempo, en $t=3s$"
   ]
  },
  {
   "cell_type": "code",
   "execution_count": 17,
   "id": "e8381f72",
   "metadata": {},
   "outputs": [
    {
     "name": "stdout",
     "output_type": "stream",
     "text": [
      "La aceleración del vehículo después de 3 seg es 20 pies/s^2\n"
     ]
    }
   ],
   "source": [
    "print(\"La aceleración del vehículo después de 3 seg es {0} pies/s^2\".format(acel.subs(t,3)))"
   ]
  },
  {
   "cell_type": "markdown",
   "id": "e2511c07",
   "metadata": {},
   "source": [
    "Compactando en una única celda el código visto:"
   ]
  },
  {
   "cell_type": "code",
   "execution_count": null,
   "id": "16832723",
   "metadata": {},
   "outputs": [],
   "source": [
    "from sympy import *\n",
    "t = symbols('t')\n",
    "\n",
    "# definición de la función a evaluar\n",
    "def v(t):\n",
    "    return 3 * t**2 + 2 * t\n",
    "\n",
    "# posición\n",
    "pos = integrate(v(t),(t,0,t))\n",
    "print(\"La posición que tendrá el vehículo despues de 3 seg será de {0} pies\".format(pos.subs(t,3)))\n",
    "\n",
    "# aceleración\n",
    "acel = diff(v(t),t)\n",
    "print(\"La aceleración del vehículo después de 3 seg es {0} pies/s^2\".format(acel.subs(t,3)))"
   ]
  },
  {
   "cell_type": "markdown",
   "id": "8ad0ed4a",
   "metadata": {},
   "source": [
    "#### Altura máxima cohete"
   ]
  },
  {
   "cell_type": "markdown",
   "id": "2019c8d4",
   "metadata": {},
   "source": [
    "<table id=\"mytable\" border=0> \n",
    "<tr> \n",
    "<td rowspan=\"2\"> <img src=\"https://github.com/carlosalvarezh/Dinamica/blob/main/Figs/C01Fig10_Ej2_Cohete.PNG\n",
    "?raw=true\" width=\"400\"/></td>\n",
    "<td style=\"height:50%\">\n",
    "<div style=\"text-align: right\"> <b>Ejemplo 12.3:</b> <a href=\"https://www.pearson.com/us/higher-education/product/Hibbeler-Engineering-Mechanics-Dynamics-14th-Edition/9780133915389.html\n",
    "\">Hibbeler R. Engineering Mechanics: Dynamics</a> </div>\n",
    "<p>Durante una prueba un cohete asciende a $75 m/s$ y cuando está a $40 m$ del suelo su motor falla. Determine la altura máxima $s_B$ alcanzada por el cohete y su velocidad justo antes de chocar con el suelo. Mientras está en movimiento, el cohete se ve sometido a una aceleración constante dirigida hacia abajo de $9.81 m/s^2$ debido a la gravedad. Ignore la resistencia del aire.</p>\n",
    "</td>\n",
    "</tr>\n",
    "</table>"
   ]
  },
  {
   "cell_type": "markdown",
   "id": "539c152b",
   "metadata": {},
   "source": [
    "Igual que el ejemplo anterior, se dará solución analítica y computacional.\n",
    "\n",
    "\n",
    "***Solución analítica:***\n",
    "\n",
    "- ***Sistema de coordenadas:*** Se establecerá el origen de coordenadas a nivel del suelo. \n",
    "\n",
    "\n",
    "- ***Altura máxima:*** Del enunciado se establece que el cohete está a una distancia de $s_A=40m$ del suelo, con una velocidad $v_A = +75m/s$ cuando el motor falla, que es cuando se empieza a tomar el tiempo, es decir, $t=0$. La aceleración que experimenta el cohete es debida a la gravedad, $a_c=-9.81m/s^2$ (negativa pues actúa en sentido contrario al desplazamiento y velocidad). Como la aceleración es constante, la posición y velocidad del cohete se pueden relacionar directamente mediante la [Ec. 1.9](#Ec1_9), donde $A$ y $B$ son los puntos inicial y final (de máxima altura) respectivamente.\n",
    "\n",
    "$$v_B^2=v_A^2+2a_c(s_B-s_A)$$\n",
    "\n",
    "La velocidad en el punto $B$ es cero. Reemplazando valores se tiene:\n",
    "\n",
    "$$0=(75m/s)^2+2(-9.81m/s^2)(s_B-40m)$$\n",
    "\n",
    "y despejando para el valor de $s_B$\n",
    "\n",
    "$$s_B=327m$$\n",
    "\n",
    "\n",
    "- ***Velocidad:*** La velocidad final del cohete (justo antes de chocar con la tierra), punto $C$, también se puede determinar de la [Ec. 1.9](#Ec1_9). En este caso el punto $B$ será el inicial.\n",
    "\n",
    "$$v_C^2=v_B^2+2a_c(s_C-s_B)$$\n",
    "\n",
    "La velocidad en el punto $B$ y la distancia en el punto $C$ son cero. Reemplazando valores se tiene:\n",
    "\n",
    "$$v_C=\\pm \\sqrt{(0)^2+2(-9.81m/s^2)(0-327m)}$$\n",
    "\n",
    "y calculando para el valor de $v_C$\n",
    "\n",
    "$$v_C=-80.1m/s$$\n",
    "\n",
    "Se selecciona la raíz negativa pues el cohete está descendiendo.\n",
    "\n",
    "\n",
    "***Solución computacional:*** Se deja al estudiante intentar una solución empleando programación con `python`."
   ]
  },
  {
   "cell_type": "markdown",
   "id": "b134d1fa",
   "metadata": {},
   "source": [
    "#### Partícula en campo magnético"
   ]
  },
  {
   "cell_type": "markdown",
   "id": "2c17b93d",
   "metadata": {},
   "source": [
    "<table id=\"mytable\" border=0> \n",
    "<tr> \n",
    "<td rowspan=\"2\"> <img src=\"https://github.com/carlosalvarezh/Dinamica/blob/main/Figs/C01Fig11_Ej3_Particula.PNG\n",
    "?raw=true\" width=\"1000\"/></td>\n",
    "<td style=\"height:50%\">\n",
    "<div style=\"text-align: right\"> <b>Ejemplo 12.3:</b> <a href=\"https://www.pearson.com/us/higher-education/product/Hibbeler-Engineering-Mechanics-Dynamics-14th-Edition/9780133915389.html\n",
    "\">Hibbeler R. Engineering Mechanics: Dynamics</a> </div>\n",
    "<p>Una partícula metálica se somete a la influencia de un campo magnético a medida que desciende a través de un fluido que se extiende de la placa $A$ a la placa $B$. Si la partícula se libera del reposo en el punto medio $C$, $s=100 mm$ y la aceleración es $a=(4s) m/s^2$, donde $s$ está en metros, determine la velocidad de la partícula cuando llega a la placa $B$, $s=200 mm$ y el tiempo que le lleva para ir de $C$ a $B$.</p>\n",
    "</td>\n",
    "</tr>\n",
    "</table>"
   ]
  },
  {
   "cell_type": "markdown",
   "id": "13bcab98",
   "metadata": {},
   "source": [
    "***Solución analítica:***\n",
    "\n",
    "- ***Sistema de coordenadas:*** Positivo hacia abájo (dirección del desplazamiento)\n",
    "\n",
    "\n",
    "- ***Velocidad:*** Como la aceleración es dada en función del espacio, $a=f(s)$, podemos deivar la ecuación de la velocidad a partir de la [Ec. 1.6](#Ec1_6), con condiciones iniciales $v=0$ en $s=0.1m$, entonces:\n",
    "\n",
    "$$vdv=ads$$\n",
    "\n",
    "integrando a ambos lados, con los límites de integración correspondientes, se tien:\n",
    "\n",
    "$$\\int_0^v vdv=\\int_{0.1}^s 4s ds$$\n",
    "\n",
    "$$\\left. \\frac{1}{2}v^2 \\right |_0^v = \\left . \\frac{4}{2} s^2  \\right|_{0.1}^s$$\n",
    "\n",
    "$$v=\\pm 2 \\sqrt{(s^2-0.01)} m/s$$\n",
    "\n",
    "evaluando en $s=200 mm = 0.2 m$ se tiene\n",
    "\n",
    "$$v_B=0.346 m/s=346 mm/s$$\n",
    "\n",
    "se escoge la raíz positiva pues va en la dirección del movimiento.\n",
    "\n",
    "\n",
    "- ***Tiempo:*** El tiempo de desplazamiento de $C$ a $B$ se obtiene de la [Ec. 1.3](#Ec1_3). Reemplazando la expresión del espacio, cuando $s=0.1m$ en $t=0$\n",
    "\n",
    "$$ds=vdt=\\pm 2 \\sqrt{(s^2-0.01)}dt$$\n",
    "\n",
    "integrando\n",
    "\n",
    "$$\\int_{0.1}^s \\frac{ds}{2 \\sqrt{s^2-0.01}}=\\int_0^t dt$$\n",
    "\n",
    "$$\\left. Ln \\left( 2 \\sqrt{s^2-0.01} + s \\right) \\right|_{0.1}^s=\\left. t \\right|_0^t$$\n",
    "\n",
    "$$Ln \\left( 2 \\sqrt{s^2-0.01} + s \\right) +2.303 = t$$\n",
    "\n",
    "evaluando en $s=0.2 m$\n",
    "\n",
    "$$t=\\frac{Ln \\left( 2 \\sqrt{(0.2)^2-0.01} + 0.2 \\right) +2.303 }{2}=0.658s$$"
   ]
  },
  {
   "cell_type": "markdown",
   "id": "0c82a9b1",
   "metadata": {},
   "source": [
    "***Solución computacional***\n",
    "\n",
    "- ***Velocidad:***\n",
    "\n",
    "Ahora vamos a plantear la solución computacional como en el primer ejemplo. Para encontrar una expresión analítica para la velocidad debemos integrar la ecuacíón $vdv=ads$. "
   ]
  },
  {
   "cell_type": "code",
   "execution_count": 1,
   "id": "c233b7ae",
   "metadata": {},
   "outputs": [],
   "source": [
    "from sympy import *\n",
    "t, x = symbols('t x')\n",
    "a, v, s = symbols('a v s') #, cls = Function)\n",
    "init_printing(use_latex='mathjax')"
   ]
  },
  {
   "cell_type": "markdown",
   "id": "b128c72a",
   "metadata": {},
   "source": [
    "En este ejemplo se ofrece una función para la aceleración dada por $a=(4s) m/s$. Generaremos una variable en python para la aceleración"
   ]
  },
  {
   "cell_type": "code",
   "execution_count": 2,
   "id": "e94e2c99",
   "metadata": {},
   "outputs": [],
   "source": [
    "a = 4 * s"
   ]
  },
  {
   "cell_type": "markdown",
   "id": "30377a19",
   "metadata": {},
   "source": [
    "integrando a ambos lados de la ecuación"
   ]
  },
  {
   "cell_type": "code",
   "execution_count": 3,
   "id": "6ff91dea",
   "metadata": {},
   "outputs": [
    {
     "data": {
      "text/latex": [
       "$\\displaystyle \\frac{v^{2}}{2} = 2 s^{2} - 0.02$"
      ],
      "text/plain": [
       " 2              \n",
       "v       2       \n",
       "── = 2⋅s  - 0.02\n",
       "2               "
      ]
     },
     "execution_count": 3,
     "metadata": {},
     "output_type": "execute_result"
    }
   ],
   "source": [
    "veloc = Eq(integrate(v, (v, 0, v)), integrate(a, (s, 0.1, s)))\n",
    "veloc"
   ]
  },
  {
   "cell_type": "markdown",
   "id": "391e1d6b",
   "metadata": {},
   "source": [
    "Resolviendo para la variable $v$"
   ]
  },
  {
   "cell_type": "code",
   "execution_count": 4,
   "id": "13142b50",
   "metadata": {},
   "outputs": [
    {
     "data": {
      "text/latex": [
       "$\\displaystyle \\left[ - 2.0 \\sqrt{s^{2} - 0.01}, \\  2.0 \\sqrt{s^{2} - 0.01}\\right]$"
      ],
      "text/plain": [
       "⎡        ___________         ___________⎤\n",
       "⎢       ╱  2                ╱  2        ⎥\n",
       "⎣-2.0⋅╲╱  s  - 0.01 , 2.0⋅╲╱  s  - 0.01 ⎦"
      ]
     },
     "execution_count": 4,
     "metadata": {},
     "output_type": "execute_result"
    }
   ],
   "source": [
    "veloc = solve(veloc,v)\n",
    "veloc"
   ]
  },
  {
   "cell_type": "markdown",
   "id": "892ebb7a",
   "metadata": {},
   "source": [
    "evaluando en $s=0.2 m$, para la raíz positiva (posición 1 de la lista), se tiene"
   ]
  },
  {
   "cell_type": "code",
   "execution_count": 5,
   "id": "aec638ef",
   "metadata": {},
   "outputs": [
    {
     "name": "stdout",
     "output_type": "stream",
     "text": [
      "La velocidad de caída de la partícula es 346 mm/s\n"
     ]
    }
   ],
   "source": [
    "print(\"La velocidad de caída de la partícula es {0:3.0f} mm/s\".format(veloc[1].subs(s,0.2)*1000))"
   ]
  },
  {
   "cell_type": "markdown",
   "id": "e4b581e2",
   "metadata": {},
   "source": [
    "- ***tiempo:*** Siguiendo lo presentado en la solución analítica"
   ]
  },
  {
   "cell_type": "code",
   "execution_count": 6,
   "id": "11777ebb",
   "metadata": {},
   "outputs": [
    {
     "data": {
      "text/latex": [
       "$\\displaystyle 0.5 \\operatorname{acosh}{\\left(10.0 s \\right)} = t$"
      ],
      "text/plain": [
       "0.5⋅acosh(10.0⋅s) = t"
      ]
     },
     "execution_count": 6,
     "metadata": {},
     "output_type": "execute_result"
    }
   ],
   "source": [
    "space = Eq(integrate(1/(veloc[1]),(s, 0.1, s)), integrate(1, (t, 0, t)))\n",
    "space"
   ]
  },
  {
   "cell_type": "code",
   "execution_count": 7,
   "id": "4555e9af",
   "metadata": {},
   "outputs": [
    {
     "data": {
      "text/latex": [
       "$\\displaystyle \\left[ 0.5 \\operatorname{acosh}{\\left(10.0 s \\right)}\\right]$"
      ],
      "text/plain": [
       "[0.5⋅acosh(10.0⋅s)]"
      ]
     },
     "execution_count": 7,
     "metadata": {},
     "output_type": "execute_result"
    }
   ],
   "source": [
    "time = solve(space,t)\n",
    "time"
   ]
  },
  {
   "cell_type": "code",
   "execution_count": 8,
   "id": "7a577d83",
   "metadata": {},
   "outputs": [
    {
     "name": "stdout",
     "output_type": "stream",
     "text": [
      "El tiempo de caída de la partícula es 0.658 s\n"
     ]
    }
   ],
   "source": [
    "print(\"El tiempo de caída de la partícula es {0:3.3f} s\".format(time[0].subs(s,0.2)))"
   ]
  },
  {
   "cell_type": "markdown",
   "id": "ca9dfc94",
   "metadata": {},
   "source": [
    "## Cinemática rectilínea: Movimiento variable"
   ]
  },
  {
   "cell_type": "markdown",
   "id": "43da5d18",
   "metadata": {},
   "source": [
    "Cuando el movimiento de una partícula es variable, su *posición*, *velocidad* y *aceleración* no pueden describirse mediante una sola función matemática continua a lo largo de toda la trayectoria. En su lugar, se requerirá una serie de funciones para especificar el movimiento en diferentes intervalos. Por eso, conviene representar el movimiento como una gráfica. Si se puede trazar una gráfica del movimiento que relacione dos de las variables $s$, $v$, $a$, $t$, entonces esta gráfica puede utilizarse para construir gráficas subsecuentes que relacionen otras dos variables, puesto que las variables están relacionadas por las relaciones diferenciales $v = ds/dt$, $a=dv/dt$ o $ads=vdv$. Con frecuencia ocurren varias situaciones."
   ]
  },
  {
   "cell_type": "markdown",
   "id": "11dd0ad2",
   "metadata": {},
   "source": [
    "### Gráficas de $s-t$, $v-t$ y $a-t$"
   ]
  },
  {
   "cell_type": "markdown",
   "id": "86c901ba",
   "metadata": {},
   "source": [
    "<table id=\"mytable\" border=0> \n",
    "<tr> \n",
    "<td rowspan=\"2\"> <img src=\"https://github.com/carlosalvarezh/Dinamica/blob/main/Figs/C01Fig12_Plot_vt.PNG\n",
    "?raw=true\" width=\"200\"/><a href=\"https://www.pearson.com/us/higher-education/product/Hibbeler-Engineering-Mechanics-Dynamics-14th-Edition/9780133915389.html\n",
    "\">Hibbeler R. Engineering Mechanics: Dynamics</a> </td>\n",
    "<td style=\"height:50%\">\n",
    "<div style=\"text-align: right\"> </div>\n",
    "<p>\n",
    "    La gráfica de $v-t$ se construye a partir de la gráfica de $s-t$, <font face = \"Times New Roman\" size = \"2\">fig. (a)</font>, se utilizará la ecuación $v=ds/dt$, ya que relaciona las variables $s$ y $t$ con $v$. Esta ecuación establece que\n",
    "</p>\n",
    "<p>\n",
    "    $$\\underbrace{\\frac{ds}{dt}}_{\\text{pendiente gráfica s-t}}=\\underbrace{v}_{velocidad}$$\n",
    "</p>\n",
    "<p>\n",
    "   Por ejemplo, si se mide la pendiente en la gráfica de $s-t$ cuando $t=t_1$, la velocidad es $v_1$, la cual se traza en la <font face = \"Times New Roman\" size = \"2\">fig. (b)</font>. La gráfica de $v-t$ se construye trazando ésta y otros valores en cada instante. \n",
    "</p>\n",
    "</td>\n",
    "</tr>\n",
    "</table>"
   ]
  },
  {
   "cell_type": "markdown",
   "id": "1d560fa5",
   "metadata": {},
   "source": [
    "<table id=\"mytable\" border=0> \n",
    "<tr> \n",
    "<td rowspan=\"2\"> <img src=\"https://github.com/carlosalvarezh/Dinamica/blob/main/Figs/C01Fig13_Plot_at.PNG\n",
    "?raw=true\" width=\"500\"/><a href=\"https://www.pearson.com/us/higher-education/product/Hibbeler-Engineering-Mechanics-Dynamics-14th-Edition/9780133915389.html\n",
    "\">Hibbeler R. Engineering Mechanics: Dynamics</a> </td>\n",
    "<td style=\"height:50%\">\n",
    "<div style=\"text-align: right\"> </div>\n",
    "<p>\n",
    "    La gráfica de $a-t$ se construye a partir de la gráfica de $v-t$ del mismo modo, <font face = \"Times New Roman\" size = \"2\">figs. (a) y (b)</font> puesto que\n",
    "</p>\n",
    "<p>\n",
    "    $$\\underbrace{\\frac{dv}{dt}}_{\\text{pendiente gráfica v-t}}=\\underbrace{a}_{acelereción}$$\n",
    "</p>\n",
    "<p>\n",
    "Si la curva $s-t$ correspondiente a cada intervalo de movimiento puede\n",
    "expresarse mediante una función matemática $s=s(t)$, entonces la ecuación\n",
    "de la gráfica de $v-t$ correspondiente al mismo intervalo se obtiene\n",
    "diferenciando esta función con respecto al tiempo puesto que $v=ds/dt$.\n",
    "</p>\n",
    "<p>\n",
    "Asimismo, la ecuación de la gráfica de $a-t$ en el mismo intervalo se determina\n",
    "al diferenciar $v=v(t)$ puesto que $a=dv/dt$. Como la diferenciación\n",
    "reduce un polinomio de grado $n$ a uno de grado $n-1$, en tal caso si la\n",
    "gráfica de $s-t$ es parabólica (una curva de segundo grado), la gráfica de\n",
    "$v-t$ será una línea inclinada (una curva de primer grado) y la gráfica de $a-t$\n",
    "será una constante o una línea horizontal (una curva de grado cero). \n",
    "</p>\n",
    "</td>\n",
    "</tr>\n",
    "</table>"
   ]
  },
  {
   "cell_type": "markdown",
   "id": "cb2259bc",
   "metadata": {},
   "source": [
    "<table id=\"mytable\" border=0> \n",
    "<tr> \n",
    "<td rowspan=\"2\"> <img src=\"https://github.com/carlosalvarezh/Dinamica/blob/main/Figs/C01Fig14_Plot_at_vt.png?raw=true\" width=\"500\"/><a href=\"https://www.pearson.com/us/higher-education/product/Hibbeler-Engineering-Mechanics-Dynamics-14th-Edition/9780133915389.html\n",
    "\">Hibbeler R. Engineering Mechanics: Dynamics</a> </td>\n",
    "<td style=\"height:50%\">\n",
    "<div style=\"text-align: right\"> </div>\n",
    "<p>\n",
    "    Si se tiene la gráfica de $a-t$, como se muestra en la figura al lado, la gráfica de $v-t$ se construye mediante $a=dv/dt$, escrita como\n",
    "</p>\n",
    "<p>\n",
    "$$\\underbrace{\\Delta v}_{\\text{Cambio de la velocidad}}=\\underbrace{\\int adt}_{\\text{área bajo la curva de a-t}}$$\n",
    "</p>\n",
    "<p>\n",
    "Para construir la gráfica $v-t$, se parte de la velocidad inicial de la partícula, $v_0$ y luego se va adicionando pequeños incrementos de área ($\\Delta v$) determinados a partir de la gráfica $a-t$. Con esto, se tienen una serie de puntos sucesivos, $v_i=v_{i-1}+\\Delta v$ que irán conformando la gráfica $v-t$\n",
    "</p>\n",
    "<p>\n",
    "La adición algebráica de los incrementos de área de la gráfica $a-t$ es necesaria, ya que las áreas situadas por encima del eje $t$ corresponden a un incremento de . \n",
    "</p>\n",
    "</td>\n",
    "</tr>\n",
    "</table>"
   ]
  },
  {
   "cell_type": "code",
   "execution_count": null,
   "id": "e2dce342",
   "metadata": {},
   "outputs": [],
   "source": []
  }
 ],
 "metadata": {
  "kernelspec": {
   "display_name": "Python 3",
   "language": "python",
   "name": "python3"
  },
  "language_info": {
   "codemirror_mode": {
    "name": "ipython",
    "version": 3
   },
   "file_extension": ".py",
   "mimetype": "text/x-python",
   "name": "python",
   "nbconvert_exporter": "python",
   "pygments_lexer": "ipython3",
   "version": "3.6.13"
  },
  "toc": {
   "base_numbering": 1,
   "nav_menu": {},
   "number_sections": true,
   "sideBar": true,
   "skip_h1_title": true,
   "title_cell": "Tabla de Contenidos",
   "title_sidebar": "Contenidos",
   "toc_cell": true,
   "toc_position": {
    "height": "calc(100% - 180px)",
    "left": "10px",
    "top": "150px",
    "width": "210px"
   },
   "toc_section_display": true,
   "toc_window_display": true
  }
 },
 "nbformat": 4,
 "nbformat_minor": 5
}
