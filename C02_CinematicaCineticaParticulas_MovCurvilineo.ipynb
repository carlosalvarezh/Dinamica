{
 "cells": [
  {
   "cell_type": "markdown",
   "id": "2af3a432",
   "metadata": {},
   "source": [
    "<h1 align=\"center\">Dinámica</h1>\n",
    "<h1 align=\"center\">Capítulo 2: Cinemática y Cinética de partículas</h1>\n",
    "<h1 align=\"center\">Movimiento curvilíneo</h1>\n",
    "<h1 align=\"center\">2021/02</h1>\n",
    "<h1 align=\"center\">MEDELLÍN - COLOMBIA </h1>"
   ]
  },
  {
   "cell_type": "markdown",
   "id": "ed464c1e",
   "metadata": {},
   "source": [
    "<table>\n",
    " <tr align=left><td><img align=left src=\"https://github.com/carlosalvarezh/Dinamica/blob/main/Figs/CC-BY.png?raw=true\">\n",
    " <td>Text provided under a Creative Commons Attribution license, CC-BY. All code is made available under the FSF-approved MIT license.(c) Carlos Alberto Alvarez Henao</td>\n",
    "</table> "
   ]
  },
  {
   "cell_type": "markdown",
   "id": "d6449132",
   "metadata": {},
   "source": [
    "*** \n",
    "\n",
    "***Docente:*** Carlos Alberto Álvarez Henao, I.C. D.Sc.\n",
    "\n",
    "***e-mail:*** carlosalvarezh@gmail.com\n",
    "\n",
    "***skype:*** carlos.alberto.alvarez.henao\n",
    "\n",
    "***Linkedin:*** https://www.linkedin.com/in/carlosalvarez5/\n",
    "\n",
    "***github:*** https://github.com/carlosalvarezh/Dinamica\n",
    "\n",
    "***Herramienta:*** [Jupyter](http://jupyter.org/)\n",
    "\n",
    "***Kernel:*** Python 3.9\n",
    "\n",
    "\n",
    "***"
   ]
  },
  {
   "cell_type": "markdown",
   "id": "00a7e292",
   "metadata": {
    "toc": true
   },
   "source": [
    "<h1>Tabla de Contenidos<span class=\"tocSkip\"></span></h1>\n",
    "<div class=\"toc\"><ul class=\"toc-item\"><li><span><a href=\"#Movimiento-curvilíneo-General\" data-toc-modified-id=\"Movimiento-curvilíneo-General-1\"><span class=\"toc-item-num\">1&nbsp;&nbsp;</span>Movimiento curvilíneo General</a></span><ul class=\"toc-item\"><li><span><a href=\"#Definición\" data-toc-modified-id=\"Definición-1.1\"><span class=\"toc-item-num\">1.1&nbsp;&nbsp;</span>Definición</a></span></li><li><span><a href=\"#Posición\" data-toc-modified-id=\"Posición-1.2\"><span class=\"toc-item-num\">1.2&nbsp;&nbsp;</span>Posición</a></span></li><li><span><a href=\"#Desplazamiento\" data-toc-modified-id=\"Desplazamiento-1.3\"><span class=\"toc-item-num\">1.3&nbsp;&nbsp;</span>Desplazamiento</a></span></li><li><span><a href=\"#Velocidad\" data-toc-modified-id=\"Velocidad-1.4\"><span class=\"toc-item-num\">1.4&nbsp;&nbsp;</span>Velocidad</a></span></li><li><span><a href=\"#Aceleración\" data-toc-modified-id=\"Aceleración-1.5\"><span class=\"toc-item-num\">1.5&nbsp;&nbsp;</span>Aceleración</a></span></li><li><span><a href=\"#Comentarios-al-movimiento-curvilíneo-general\" data-toc-modified-id=\"Comentarios-al-movimiento-curvilíneo-general-1.6\"><span class=\"toc-item-num\">1.6&nbsp;&nbsp;</span>Comentarios al movimiento curvilíneo general</a></span></li></ul></li><li><span><a href=\"#Movimiento-curvilíneo:-Componente-rectangulares\" data-toc-modified-id=\"Movimiento-curvilíneo:-Componente-rectangulares-2\"><span class=\"toc-item-num\">2&nbsp;&nbsp;</span>Movimiento curvilíneo: Componente rectangulares</a></span><ul class=\"toc-item\"><li><span><a href=\"#Posición\" data-toc-modified-id=\"Posición-2.1\"><span class=\"toc-item-num\">2.1&nbsp;&nbsp;</span>Posición</a></span></li><li><span><a href=\"#Velocidad\" data-toc-modified-id=\"Velocidad-2.2\"><span class=\"toc-item-num\">2.2&nbsp;&nbsp;</span>Velocidad</a></span></li><li><span><a href=\"#Aceleración\" data-toc-modified-id=\"Aceleración-2.3\"><span class=\"toc-item-num\">2.3&nbsp;&nbsp;</span>Aceleración</a></span></li><li><span><a href=\"#Ejemplos-movimiento-curvilínea-componentes-rectangulares\" data-toc-modified-id=\"Ejemplos-movimiento-curvilínea-componentes-rectangulares-2.4\"><span class=\"toc-item-num\">2.4&nbsp;&nbsp;</span>Ejemplos movimiento curvilínea componentes rectangulares</a></span><ul class=\"toc-item\"><li><span><a href=\"#Globo-atmosférico\" data-toc-modified-id=\"Globo-atmosférico-2.4.1\"><span class=\"toc-item-num\">2.4.1&nbsp;&nbsp;</span>Globo atmosférico</a></span></li></ul></li></ul></li></ul></div>"
   ]
  },
  {
   "cell_type": "markdown",
   "id": "4fbf44a5",
   "metadata": {},
   "source": [
    "<p float=\"center\">\n",
    "  <img src=\"https://github.com/carlosalvarezh/Dinamica/blob/main/Figs/C02Fig01_MovCurvilineo.jpg?raw=true\" width=\"500\" />\n",
    "</p>\n",
    "\n",
    "<div style=\"text-align: right\"> Fuente: <a href=\"https://def.fe.up.pt/dynamics/curvilinear_motion.html\">Universidade do Porto</a> </div>\n"
   ]
  },
  {
   "cell_type": "markdown",
   "id": "3db0f1ac",
   "metadata": {},
   "source": [
    "## Movimiento curvilíneo General"
   ]
  },
  {
   "cell_type": "markdown",
   "id": "a20e0e3e",
   "metadata": {},
   "source": [
    "### Definición"
   ]
  },
  {
   "cell_type": "markdown",
   "id": "c42762fe",
   "metadata": {},
   "source": [
    "El [movimiento curvilíneo](https://en.wikipedia.org/wiki/Curvilinear_motion) es aquél que se describe cuando una partícula se desplaza a lo largo de una trayectoria curva ([parabólico](https://en.wikipedia.org/wiki/Projectile_motion), [oscilatorio](https://en.wikipedia.org/wiki/Oscillation) o [circular](https://en.wikipedia.org/wiki/Circular_motion)). Se emplearán los conceptos de [análisis vectorial](https://en.wikipedia.org/wiki/Vector_calculus) para describir la posición, velocidad y aceleración de la partícula en las tres dimensiones espaciales. En este capítulo se considerarán también tres tipos de [sistemas de coordenadas](https://en.wikipedia.org/wiki/Coordinate_system) usadas frecuentemente en el análisis de este tipo de movimiento.\n"
   ]
  },
  {
   "cell_type": "markdown",
   "id": "c750f975",
   "metadata": {},
   "source": [
    "### Posición"
   ]
  },
  {
   "cell_type": "markdown",
   "id": "e484ae7b",
   "metadata": {},
   "source": [
    "<p float=\"center\">\n",
    "  <img src=\"https://github.com/carlosalvarezh/Dinamica/blob/main/Figs/C02Fig02_Posicion.PNG\n",
    "?raw=true\" width=\"200\" />\n",
    "</p>\n",
    "\n",
    "<div style=\"text-align: right\"> Fuente: <a href=\"https://www.pearson.com/us/higher-education/product/Hibbeler-Engineering-Mechanics-Dynamics-14th-Edition/9780133915389.html\n",
    "\">Hibbeler R. Engineering Mechanics: Dynamics</a> </div>\n",
    "\n",
    "Sea una partícula situada en un punto de una curva espacial definida por la función de trayectoria $s(t)$. El vector de posición $\\vec{\\boldsymbol{r}} = \\vec{\\boldsymbol{r}}(t)$ designará la posición de la partícula, medida con respecto a un punto fijo $O$. Tanto la magnitud como la dirección de este vector cambiarán a medida que la partícula se mueve a lo largo de la curva."
   ]
  },
  {
   "cell_type": "markdown",
   "id": "51d3459f",
   "metadata": {},
   "source": [
    "### Desplazamiento"
   ]
  },
  {
   "cell_type": "markdown",
   "id": "09fc52ca",
   "metadata": {},
   "source": [
    "<p float=\"center\">\n",
    "  <img src=\"https://github.com/carlosalvarezh/Dinamica/blob/main/Figs/C02Fig03_Desplazamiento.PNG\n",
    "?raw=true\" width=\"200\" />\n",
    "</p>\n",
    "\n",
    "<div style=\"text-align: right\"> Fuente: <a href=\"https://www.pearson.com/us/higher-education/product/Hibbeler-Engineering-Mechanics-Dynamics-14th-Edition/9780133915389.html\n",
    "\">Hibbeler R. Engineering Mechanics: Dynamics</a> </div>\n",
    "\n",
    "Si durante un breve intervalo $\\Delta t$ la partícula se mueve una distancia $\\Delta s$ a lo largo de la curva a una nueva posición, definida por $\\vec{\\boldsymbol{r'}} = \\vec{\\boldsymbol{r}} +\\Delta \\vec{\\boldsymbol{r}}$, el desplazamiento $\\Delta \\vec{\\boldsymbol{r}}$ representará el cambio de posición de la partícula y se determina mediante la resta vectorial $\\Delta \\vec{\\boldsymbol{r}}= \\vec{\\boldsymbol{r'}} - \\vec{\\boldsymbol{r}}$."
   ]
  },
  {
   "cell_type": "markdown",
   "id": "10feab04",
   "metadata": {},
   "source": [
    "### Velocidad"
   ]
  },
  {
   "cell_type": "markdown",
   "id": "9141d092",
   "metadata": {},
   "source": [
    "<p float=\"center\">\n",
    "  <img src=\"https://github.com/carlosalvarezh/Dinamica/blob/main/Figs/C02Fig03_Velocidad.PNG\n",
    "?raw=true\" width=\"200\" />\n",
    "</p>\n",
    "\n",
    "<div style=\"text-align: right\"> Fuente: <a href=\"https://www.pearson.com/us/higher-education/product/Hibbeler-Engineering-Mechanics-Dynamics-14th-Edition/9780133915389.html\n",
    "\">Hibbeler R. Engineering Mechanics: Dynamics</a> </div>\n",
    "\n",
    "Durante el tiempo $\\Delta t$, la velocidad promedio de la partícula es\n",
    "\n",
    "<a id='Ec2_1'></a>\n",
    "\\begin{equation*}\n",
    "\\vec{\\boldsymbol{v}}_{prom}=\\frac{\\Delta \\vec{\\boldsymbol{r}}}{\\Delta t}\n",
    "\\label{eq:Ec2_1} \\tag{2.1}\n",
    "\\end{equation*}\n",
    "\n",
    "La *velocidad instantánea* se determina cuando $\\Delta t \\rightarrow 0$, entonces, la dirección de $\\Delta \\vec{\\boldsymbol{r}}$ tiende a la *tangente* a la curva y,\n",
    "\n",
    "<a id='Ec2_2'></a>\n",
    "\\begin{equation*}\n",
    "\\vec{\\boldsymbol{v}}=\\lim \\limits_{\\Delta t \\to 0} \\frac{\\Delta \\vec{\\boldsymbol{r}}}{\\Delta t}=\\frac{d{\\boldsymbol{r}}}{dt}\n",
    "\\label{eq:Ec2_2} \\tag{2.2}\n",
    "\\end{equation*}\n",
    "\n",
    "Como $\\Delta \\vec{\\boldsymbol{r}}$ será tangente a la curva, la dirección de $\\vec{\\boldsymbol{v}}$ también es tangente a la curva. La magnitud de $\\vec{\\boldsymbol{v}}$, conocida como la rapidez, se obtiene al tener en cuenta que la longitud del segmento de línea recta $\\Delta \\vec{\\boldsymbol{r}}$ tiende la longitud de arco $\\Delta s$ a medida que $\\Delta t \\rightarrow 0$, tenemos \n",
    "\n",
    "<a id='Ec2_3'></a>\n",
    "\\begin{equation*}\n",
    "\\vec{\\boldsymbol{v}}=\\lim \\limits_{\\Delta t \\to 0} \\frac{\\Delta \\vec{\\boldsymbol{r}}}{\\Delta t}=\\lim \\limits_{\\Delta t \\to 0} \\frac{\\Delta s}{\\Delta t}=\\frac{ds}{dt}\n",
    "\\label{eq:Ec2_3} \\tag{2.3}\n",
    "\\end{equation*}\n"
   ]
  },
  {
   "cell_type": "markdown",
   "id": "e8e4c132",
   "metadata": {},
   "source": [
    "### Aceleración"
   ]
  },
  {
   "cell_type": "markdown",
   "id": "d6476975",
   "metadata": {},
   "source": [
    "<p float=\"center\">\n",
    "  <img src=\"https://github.com/carlosalvarezh/Dinamica/blob/main/Figs/C02Fig04_Aceleracion.PNG\n",
    "?raw=true\" width=\"200\" />\n",
    "</p>\n",
    "\n",
    "<div style=\"text-align: right\"> Fuente: <a href=\"https://www.pearson.com/us/higher-education/product/Hibbeler-Engineering-Mechanics-Dynamics-14th-Edition/9780133915389.html\n",
    "\">Hibbeler R. Engineering Mechanics: Dynamics</a> </div>\n",
    "\n",
    "Si la velocidad de la partícula es $\\vec{\\boldsymbol{v}}$ en el instante $t$ y $\\vec{\\boldsymbol{v'}}=\\vec{\\boldsymbol{v}}+\\Delta \\vec{\\boldsymbol{v}}$ en el instante $t + \\Delta t$, entonces la aceleración promedio de la partícula durante el intervalo $\\Delta t$ es\n",
    "\n",
    "<a id='Ec2_4'></a>\n",
    "\\begin{equation*}\n",
    "\\vec{\\boldsymbol{a}}_{prom}=\\frac{\\Delta \\vec{\\boldsymbol{v}}}{\\Delta t}\n",
    "\\label{eq:Ec2_4} \\tag{2.4}\n",
    "\\end{equation*}\n",
    "\n",
    "Para estudiar la tasa de cambio en el tiempo, los dos vectores de velocidad en la figura anterior se trazan en la siguiente figura\n",
    "\n",
    "<p float=\"center\">\n",
    "  <img src=\"https://github.com/carlosalvarezh/Dinamica/blob/main/Figs/C02Fig05_Hodografa.PNG\n",
    "?raw=true\" width=\"200\" />\n",
    "</p>\n",
    "\n",
    "<div style=\"text-align: right\"> Fuente: <a href=\"https://www.pearson.com/us/higher-education/product/Hibbeler-Engineering-Mechanics-Dynamics-14th-Edition/9780133915389.html\n",
    "\">Hibbeler R. Engineering Mechanics: Dynamics</a> </div>\n",
    "\n",
    "de modo que sus colas queden en el punto fijo $O'$ y sus cabezas de punta de flecha toquen puntos situados en la curva. Esta curva se llama [hodógrafa](https://en.wikipedia.org/wiki/Hodograph) y describe el lugar geométrico de puntos para la cabeza de punta de flecha del vector de velocidad, así como la trayectoria $s$ describe el lugar geométrico de puntos para la cabeza de punta de flecha del vector de posición.\n",
    "\n",
    "La *aceleración instantánea* se determina cuando $\\Delta t \\rightarrow 0$, entonces, en el límite $\\Delta \\vec{\\boldsymbol{v}}$ la tangente tenderá a la *hodógrafa* y por lo tanto\n",
    "\n",
    "<a id='Ec2_5'></a>\n",
    "\\begin{equation*}\n",
    "\\vec{\\boldsymbol{a}}=\\lim \\limits_{\\Delta t \\to 0} \\frac{\\Delta \\vec{\\boldsymbol{v}}}{\\Delta t}=\\frac{d{\\boldsymbol{v}}}{dt}\n",
    "\\label{eq:Ec2_5} \\tag{2.5}\n",
    "\\end{equation*}\n",
    "\n",
    "este resultado también puede ser escrito en función del vector posición $\\vec{\\boldsymbol{r}}$ de la siguiente manera\n",
    "\n",
    "<a id='Ec2_6'></a>\n",
    "\\begin{equation*}\n",
    "\\vec{\\boldsymbol{a}}=\\frac{d^2{\\boldsymbol{r}}}{dt^2}\n",
    "\\label{eq:Ec2_6} \\tag{2.6}\n",
    "\\end{equation*}"
   ]
  },
  {
   "cell_type": "markdown",
   "id": "5b2988cf",
   "metadata": {},
   "source": [
    "### Comentarios al movimiento curvilíneo general"
   ]
  },
  {
   "cell_type": "markdown",
   "id": "80ed04f4",
   "metadata": {},
   "source": [
    "- Por definición de la derivada, $\\vec{\\boldsymbol{a}}$ actúa tangente a la hodógrafa, \n",
    "\n",
    "<p float=\"center\">\n",
    "  <img src=\"https://github.com/carlosalvarezh/Dinamica/blob/main/Figs/C02Fig06_Hodografa2.PNG\n",
    "?raw=true\" width=\"200\" />\n",
    "</p>\n",
    "\n",
    "<div style=\"text-align: right\"> Fuente: <a href=\"https://www.pearson.com/us/higher-education/product/Hibbeler-Engineering-Mechanics-Dynamics-14th-Edition/9780133915389.html\n",
    "\">Hibbeler R. Engineering Mechanics: Dynamics</a> </div>\n",
    "\n",
    "y, en general no es tangente a la trayectoria del movimiento.\n",
    "\n",
    "<p float=\"center\">\n",
    "  <img src=\"https://github.com/carlosalvarezh/Dinamica/blob/main/Figs/C02Fig07_Trayectoria.PNG\n",
    "?raw=true\" width=\"200\" />\n",
    "</p>\n",
    "\n",
    "<div style=\"text-align: right\"> Fuente: <a href=\"https://www.pearson.com/us/higher-education/product/Hibbeler-Engineering-Mechanics-Dynamics-14th-Edition/9780133915389.html\n",
    "\">Hibbeler R. Engineering Mechanics: Dynamics</a> </div>\n",
    "\n",
    "\n",
    "- Tanto $\\Delta \\vec{\\boldsymbol{v}}$ como $\\vec{\\boldsymbol{a}}$, deben responder el cambio tanto de magnitud como de dirección de la velocidad $\\vec{\\boldsymbol{v}}$ a medida que la partícula se mueve de un punto al siguiente a lo largo de la trayectoria. \n",
    "\n",
    "\n",
    "- Para que la partícula siga cualquier trayectoria curva, el cambio direccional siempre *“cambia”* el vector de velocidad hacia el *“interior”* o *“lado cóncavo”* de la trayectoria, y por consiguiente a no puede permanecer tangente a la trayectoria. \n",
    "\n",
    "\n",
    "- En conclusión, $\\vec{\\boldsymbol{v}}$ siempre es tangente a la trayectoria y $\\vec{\\boldsymbol{a}}$ siempre es tangente a la hodógrafa."
   ]
  },
  {
   "cell_type": "markdown",
   "id": "578c64bc",
   "metadata": {},
   "source": [
    "## Movimiento curvilíneo: Componente rectangulares"
   ]
  },
  {
   "cell_type": "markdown",
   "id": "fe6e9981",
   "metadata": {},
   "source": [
    "El movimiento curvilíneo también se puede expresar en función de las coordenadas $x$, $y$, $z$ que cubren su trayectoria."
   ]
  },
  {
   "cell_type": "markdown",
   "id": "85fc9ea8",
   "metadata": {},
   "source": [
    "### Posición"
   ]
  },
  {
   "cell_type": "markdown",
   "id": "d8321ffe",
   "metadata": {},
   "source": [
    "<p float=\"center\">\n",
    "  <img src=\"https://github.com/carlosalvarezh/Dinamica/blob/main/Figs/C02Fig08_PosicionRectangulares.PNG\n",
    "?raw=true\" width=\"300\" />\n",
    "</p>\n",
    "\n",
    "<div style=\"text-align: right\"> Fuente: <a href=\"https://www.pearson.com/us/higher-education/product/Hibbeler-Engineering-Mechanics-Dynamics-14th-Edition/9780133915389.html\n",
    "\">Hibbeler R. Engineering Mechanics: Dynamics</a> </div>\n",
    "\n",
    "Si la partícula está en el punto $(x, y, z)$ de la trayectoria curva $s$, entonces su posición se definirá por el vector:\n",
    "\n",
    "<a id='Ec2_7'></a>\n",
    "\\begin{equation*}\n",
    "\\vec{\\boldsymbol{r}}=x\\vec{\\boldsymbol{i}}+y\\vec{\\boldsymbol{j}}+z\\vec{\\boldsymbol{k}}\n",
    "\\label{eq:Ec2_7} \\tag{2.7}\n",
    "\\end{equation*}\n",
    "\n",
    "***Comentarios:***\n",
    "\n",
    "- Cuando la partícula se mueve, las compontes del vector $\\vec{\\boldsymbol{r}}$ se representan en función del tiempo, es decir, $x(t), y(t), z(t)$. Por lo que $\\vec{\\boldsymbol{r}}=\\vec{\\boldsymbol{r}}(t)$\n",
    "\n",
    "\n",
    "- La magnitud de $\\vec{\\boldsymbol{r}}$ estará dada por la [norma euclideana](https://en.wikipedia.org/wiki/Euclidean_space#Euclidean_norm):\n",
    "\n",
    "<a id='Ec2_8'></a>\n",
    "\\begin{equation*}\n",
    "r=\\sqrt{x^2+y^2+z^2}\n",
    "\\label{eq:Ec2_8} \\tag{2.8}\n",
    "\\end{equation*}\n",
    "\n",
    "- La dirección del vector $\\vec{\\boldsymbol{r}}$ se determina a través del [vector unitario](https://en.wikipedia.org/wiki/Unit_vector):\n",
    "\n",
    "<a id='Ec2_9'></a>\n",
    "\\begin{equation*}\n",
    "\\vec{\\boldsymbol{u}}_r=\\frac{\\vec{\\boldsymbol{r}}}{r}\n",
    "\\label{eq:Ec2_9} \\tag{2.9}\n",
    "\\end{equation*}\n"
   ]
  },
  {
   "cell_type": "markdown",
   "id": "2be97ac9",
   "metadata": {},
   "source": [
    "### Velocidad"
   ]
  },
  {
   "cell_type": "markdown",
   "id": "cc8bbabe",
   "metadata": {},
   "source": [
    "<p float=\"center\">\n",
    "  <img src=\"https://github.com/carlosalvarezh/Dinamica/blob/main/Figs/C02Fig09_VelocidadRectangulares.PNG\n",
    "?raw=true\" width=\"300\" />\n",
    "</p>\n",
    "\n",
    "<div style=\"text-align: right\"> Fuente: <a href=\"https://www.pearson.com/us/higher-education/product/Hibbeler-Engineering-Mechanics-Dynamics-14th-Edition/9780133915389.html\n",
    "\">Hibbeler R. Engineering Mechanics: Dynamics</a> </div>\n",
    "\n",
    "Derivando el vector posición respecto al tiempo, se obtendrá el vector velocidad:\n",
    "\n",
    "<a id='Ec2_10'></a>\n",
    "\\begin{equation*}\n",
    "\\vec{\\boldsymbol{v}}=\\frac{d\\vec{\\boldsymbol{r}}}{dt}=\\frac{d}{dt}(x\\vec{\\boldsymbol{i}})+\\frac{d}{dt}(y\\vec{\\boldsymbol{j}})+\\frac{d}{dt}(z\\vec{\\boldsymbol{k}})\n",
    "\\label{eq:Ec2_10} \\tag{2.10}\n",
    "\\end{equation*}\n",
    "\n",
    "***Comentarios:***\n",
    "\n",
    "- Tener en cuenta que al derivar es necesario derivar tanto la magnitud como la dirección en cada componente, es decir:\n",
    "\n",
    "<a id='Ec2_11'></a>\n",
    "\\begin{equation*}\n",
    "\\begin{aligned}\n",
    "\\frac{d}{dt}(x\\vec{\\boldsymbol{i}})=\\frac{dx}{dt}\\vec{\\boldsymbol{i}}+x\\frac{d\\vec{\\boldsymbol{i}}}{dt} \\\\\n",
    "\\frac{d}{dt}(y\\vec{\\boldsymbol{j}})=\\frac{dy}{dt}\\vec{\\boldsymbol{j}}+y\\frac{d\\vec{\\boldsymbol{j}}}{dt} \\\\\n",
    "\\frac{d}{dt}(z\\vec{\\boldsymbol{k}})=\\frac{dz}{dt}\\vec{\\boldsymbol{k}}+z\\frac{d\\vec{\\boldsymbol{k}}}{dt} \n",
    "\\end{aligned}\n",
    "\\label{eq:Ec2_11} \\tag{2.11}\n",
    "\\end{equation*}\n",
    "\n",
    "- El segundo término del lado derecho en cada una de las ecuaciones anteriores será cero si el marco de referencia es fijo, por lo que la dirección y magnitud de $\\vec{\\boldsymbol{i}}$ no cambia con el tiempo.\n",
    "\n",
    "\n",
    "- Es usual representar el vector velocidad también como:\n",
    "\n",
    "<a id='Ec2_12'></a>\n",
    "\\begin{equation*}\n",
    "\\vec{\\boldsymbol{v}}=\\frac{d\\vec{\\boldsymbol{r}}}{dt}=v_x\\vec{\\boldsymbol{i}}+v_y\\vec{\\boldsymbol{j}}+v_z\\vec{\\boldsymbol{k}}\n",
    "\\label{eq:Ec2_12} \\tag{2.12}\n",
    "\\end{equation*}\n",
    "\n",
    "- O usando la notación \"punto\" que representa las primeras derivadas de $x=x(t)$, $y=y(t)$, $z=z(t)$: $v_x=\\dot{x}$, $v_y=\\dot{y}$, $v_z=\\dot{z}$\n",
    "\n",
    "\n",
    "- La magnitud de la velocidad es a su vez:\n",
    "\n",
    "<a id='Ec2_13'></a>\n",
    "\\begin{equation*}\n",
    "v=\\sqrt{v_x^2+v_y^2+v_z^2}\n",
    "\\label{eq:Ec2_13} \\tag{2.13}\n",
    "\\end{equation*}\n",
    "\n",
    "\n",
    "- y el vector unitario, que especifica su dirección y es tangente a la trayectoria, está dado por:\n",
    "\n",
    "<a id='Ec2_14'></a>\n",
    "\\begin{equation*}\n",
    "\\vec{\\boldsymbol{u}}_v=\\frac{\\vec{\\boldsymbol{v}}}{v}\n",
    "\\label{eq:Ec2_14} \\tag{2.14}\n",
    "\\end{equation*}\n"
   ]
  },
  {
   "cell_type": "markdown",
   "id": "843b9f32",
   "metadata": {},
   "source": [
    "### Aceleración"
   ]
  },
  {
   "cell_type": "markdown",
   "id": "97bd63b6",
   "metadata": {},
   "source": [
    "<p float=\"center\">\n",
    "  <img src=\"https://github.com/carlosalvarezh/Dinamica/blob/main/Figs/C02Fig10_AceleracionRectangulares.PNG\n",
    "?raw=true\" width=\"300\" />\n",
    "</p>\n",
    "\n",
    "<div style=\"text-align: right\"> Fuente: <a href=\"https://www.pearson.com/us/higher-education/product/Hibbeler-Engineering-Mechanics-Dynamics-14th-Edition/9780133915389.html\n",
    "\">Hibbeler R. Engineering Mechanics: Dynamics</a> </div>\n",
    "\n",
    "Sacando la primera derivada del vector velocidad respecto al tiempo (o la segunda derivada del vector posición), se obtiene el vector aceleración:\n",
    "\n",
    "<a id='Ec2_15'></a>\n",
    "\\begin{equation*}\n",
    "\\vec{\\boldsymbol{a}}=\\frac{d\\vec{\\boldsymbol{v}}}{dt}=a_x\\vec{\\boldsymbol{i}}+a_y\\vec{\\boldsymbol{j}}+a_z\\vec{\\boldsymbol{k}}\n",
    "\\label{eq:Ec2_15} \\tag{2.15}\n",
    "\\end{equation*}\n",
    "\n",
    "***Comentarios:***\n",
    "\n",
    "- Usando la notación \"punto\": \n",
    "\n",
    "<a id='Ec2_16'></a>\n",
    "\\begin{equation*}\n",
    "\\begin{aligned}\n",
    "a_x=\\dot{v}_x=\\ddot{x} \\\\\n",
    "a_y=\\dot{v}_y=\\ddot{y} \\\\\n",
    "a_z=\\dot{v}_z=\\ddot{z}\n",
    "\\end{aligned}\n",
    "\\label{eq:Ec2_16} \\tag{2.16}\n",
    "\\end{equation*}\n",
    "\n",
    "\n",
    "- La magnitud de la aceleración estará dada por,\n",
    "\n",
    "<a id='Ec2_17'></a>\n",
    "\\begin{equation*}\n",
    "a=\\sqrt{a_x^2+a_y^2+a_z^2}\n",
    "\\label{eq:Ec2_17} \\tag{2.17}\n",
    "\\end{equation*}\n",
    "\n",
    "- el vector unitario, está dado por:\n",
    "\n",
    "<a id='Ec2_18'></a>\n",
    "\\begin{equation*}\n",
    "\\vec{\\boldsymbol{u}}_a=\\frac{\\vec{\\boldsymbol{a}}}{a}\n",
    "\\label{eq:Ec2_18} \\tag{2.18}\n",
    "\\end{equation*}\n",
    "\n",
    "Como la aceleración representa el cambio tanto de la magnitud como de la dirección de la velocidad, en geneeral, no es tangente a la trayectoria."
   ]
  },
  {
   "cell_type": "markdown",
   "id": "8db35645",
   "metadata": {},
   "source": [
    "### Ejemplos movimiento curvilínea componentes rectangulares"
   ]
  },
  {
   "cell_type": "markdown",
   "id": "c68003ca",
   "metadata": {},
   "source": [
    "#### Globo atmosférico"
   ]
  },
  {
   "cell_type": "markdown",
   "id": "d5fabbda",
   "metadata": {},
   "source": [
    "<table id=\"mytable\" border=0> \n",
    "<tr> \n",
    "<td rowspan=\"2\"> <img src=\"https://github.com/carlosalvarezh/Dinamica/blob/main/Figs/C02Fig11_Ej5_Globo.PNG\n",
    "?raw=true\" width=\"400\"/> \n",
    "</td>\n",
    "<td style=\"height:50%\">\n",
    "<div style=\"text-align: right\"> <b>Ejemplo 12.9:</b> <a href=\"https://www.pearson.com/us/higher-education/product/Hibbeler-Engineering-Mechanics-Dynamics-14th-Edition/9780133915389.html\n",
    "\">Hibbeler R. Engineering Mechanics: Dynamics</a> </div>\n",
    "\n",
    "<p>En cualquier instante $x=(8t)pies$, donde $t$ está en segundos, define la posición horizontal del globo atmosférico de la figura. Si la ecuación de la trayectoria es $y = x^2/10$, determina la magnitud y dirección de la velocidad y la aceleración cuando $t = 2 s$.</p>\n",
    "</td>\n",
    "</tr>\n",
    "</table>\n",
    "\n",
    "***Solución analítica:***\n",
    "\n",
    "- ***Velocidad:*** \n",
    "\n",
    "La componente de la velocidad en la dirección $x$ se obtiene como:\n",
    "\n",
    "$$v_x=\\dot{x}=\\frac{d}{dt}(8t)=8 pies/s \\rightarrow$$\n",
    "\n",
    "Para determinar la componente de la velocidad en la dirección $y$ es necesario emplear la [regla de la cadena](https://en.wikipedia.org/wiki/Chain_rule) vista en cálculo\n",
    "\n",
    "$$v_y=\\dot{y}=\\frac{d}{dt}(x^2/10)=2x\\dot{x}/10=2(16)(8)/10=25.6pies/s \\uparrow$$\n",
    "\n",
    "en $t=2s$, la magnitud de la velocidad es:\n",
    "\n",
    "$$v=\\sqrt{(8 pies/s)^2+(25.6pies/s)^2}=26.8 pies/s$$\n",
    "\n",
    "Para determinar la dirección, se debe tener presente que ésta se calcula como el ángulo respecto al eje $x$ y es tangente a la trayectoria. \n",
    "\n",
    "<p float=\"center\">\n",
    "  <img src=\"https://github.com/carlosalvarezh/Dinamica/blob/main/Figs/C02Fig12_Ej5_Globo_b.PNG\n",
    "?raw=true\" width=\"150\" />\n",
    "</p>\n",
    "\n",
    "<div style=\"text-align: right\"> Fuente: <a href=\"https://www.pearson.com/us/higher-education/product/Hibbeler-Engineering-Mechanics-Dynamics-14th-Edition/9780133915389.html\n",
    "\">Hibbeler R. Engineering Mechanics: Dynamics</a> </div>\n",
    "\n",
    "$$\\theta_v=tan^{-1}\\frac{v_y}{v_x}=tan^{-1}\\frac{25.6}{8}=72.6^\\circ$$\n",
    "\n",
    "\n",
    "- ***Aceleración:***\n",
    "\n",
    "Procediendo de la misma forma que para la velocidad, se empleará la Regla de la Cadena para determinar las componentes de la aceleración\n",
    "\n",
    "$$a_x=\\dot{v}_x=\\frac{d}{dt}(8)=0$$\n",
    "$$a_y=\\dot{v}_y=\\frac{d}{dt}(2x\\dot{x}/10)=2(\\dot{x})\\dot{x}/10+2x\\ddot{x}/10$$\n",
    "\n",
    "\\begin{equation*}\n",
    "\\begin{aligned}\n",
    "a_y &=\\dot{v}_y=\\frac{d}{dt}(2x\\dot{x}/10)=2(\\dot{x})\\dot{x}/10+2x\\ddot{x}/10 \\\\\n",
    "    &=2(8)^2/10+2(16)(0)=12.8pies/s^2 \\uparrow\n",
    "\\end{aligned}\n",
    "\\end{equation*}\n",
    "\n",
    "la magnitud estaría dada por\n",
    "\n",
    "$$a=\\sqrt{(0)^2+(12.8)^2}=12.8 pies/s^2$$\n",
    "\n",
    "y su dirección\n",
    "\n",
    "$$\\theta_a=tan^{-1}\\frac{12.8}{0}=90^\\circ$$"
   ]
  },
  {
   "cell_type": "markdown",
   "id": "d893e130",
   "metadata": {},
   "source": [
    "***Solución computacional***"
   ]
  },
  {
   "cell_type": "code",
   "execution_count": 1,
   "id": "e9775689",
   "metadata": {},
   "outputs": [],
   "source": [
    "from sympy import *\n",
    "t = symbols('t')\n",
    "init_printing(use_latex='mathjax')"
   ]
  },
  {
   "cell_type": "markdown",
   "id": "e24c0da9",
   "metadata": {},
   "source": [
    "Para el cálculo de las componentes de la velocidad tanto en la dirección $x$ como $y$ se procederá de la siguiente forma. \n",
    "\n",
    "- Se crean las funciones de la posición y la trayectoria"
   ]
  },
  {
   "cell_type": "code",
   "execution_count": 2,
   "id": "e1dcbe05",
   "metadata": {},
   "outputs": [],
   "source": [
    "# Ecuación de la posición x en un instante t\n",
    "x = 8 * t\n",
    "\n",
    "# Ecuación de la trayectoria\n",
    "y = x**2 / 10"
   ]
  },
  {
   "cell_type": "markdown",
   "id": "252f07cf",
   "metadata": {},
   "source": [
    "- La velocidad es la derivada del espacio, para cada una de sus componentes, respecto al tiempo"
   ]
  },
  {
   "cell_type": "code",
   "execution_count": 3,
   "id": "78bb45d6",
   "metadata": {},
   "outputs": [
    {
     "data": {
      "text/latex": [
       "$\\displaystyle 8$"
      ],
      "text/plain": [
       "8"
      ]
     },
     "execution_count": 3,
     "metadata": {},
     "output_type": "execute_result"
    }
   ],
   "source": [
    "# Cálculo de la velocidad en la dirección x\n",
    "vx = diff(x,t)\n",
    "vx"
   ]
  },
  {
   "cell_type": "code",
   "execution_count": 4,
   "id": "31a45fe3",
   "metadata": {},
   "outputs": [
    {
     "data": {
      "text/latex": [
       "$\\displaystyle 8$"
      ],
      "text/plain": [
       "8"
      ]
     },
     "execution_count": 4,
     "metadata": {},
     "output_type": "execute_result"
    }
   ],
   "source": [
    "# Evaluación de la velocidad en x cuando t = 2 (en este caso es una constante)\n",
    "vx = vx.subs(t,2)\n",
    "vx"
   ]
  },
  {
   "cell_type": "code",
   "execution_count": 5,
   "id": "29c2530d",
   "metadata": {},
   "outputs": [
    {
     "data": {
      "text/latex": [
       "$\\displaystyle 8$"
      ],
      "text/plain": [
       "8"
      ]
     },
     "execution_count": 5,
     "metadata": {},
     "output_type": "execute_result"
    }
   ],
   "source": [
    "# calculo de la velocidad en la dirección x, y evaluación en t=2 en una misma línea de código\n",
    "vx = diff(x,t).subs(t,2)\n",
    "vx"
   ]
  },
  {
   "cell_type": "code",
   "execution_count": 6,
   "id": "ad192a8f",
   "metadata": {},
   "outputs": [
    {
     "data": {
      "text/latex": [
       "$\\displaystyle \\frac{64 t}{5}$"
      ],
      "text/plain": [
       "64⋅t\n",
       "────\n",
       " 5  "
      ]
     },
     "execution_count": 6,
     "metadata": {},
     "output_type": "execute_result"
    }
   ],
   "source": [
    "# Cálculo de la velocidad en la dirección y\n",
    "vy = diff(y,t)\n",
    "vy"
   ]
  },
  {
   "cell_type": "code",
   "execution_count": 7,
   "id": "58703e39",
   "metadata": {},
   "outputs": [
    {
     "data": {
      "text/latex": [
       "$\\displaystyle 25.6$"
      ],
      "text/plain": [
       "25.6000000000000"
      ]
     },
     "execution_count": 7,
     "metadata": {},
     "output_type": "execute_result"
    }
   ],
   "source": [
    "# Evaluación de la velocidad en y cuando t = 2 y representación en punto flotante (Numerical)\n",
    "vy = N(vy.subs(t,2))\n",
    "vy"
   ]
  },
  {
   "cell_type": "markdown",
   "id": "42a27c2a",
   "metadata": {},
   "source": [
    "- Se cacula la magnitud euclideana"
   ]
  },
  {
   "cell_type": "code",
   "execution_count": 8,
   "id": "3cfaceac",
   "metadata": {},
   "outputs": [
    {
     "data": {
      "text/latex": [
       "$\\displaystyle 26.8$"
      ],
      "text/plain": [
       "26.8"
      ]
     },
     "execution_count": 8,
     "metadata": {},
     "output_type": "execute_result"
    }
   ],
   "source": [
    "magVel = sqrt(vx**2 + vy**2).evalf(3)\n",
    "magVel"
   ]
  },
  {
   "cell_type": "code",
   "execution_count": 9,
   "id": "4c923dab",
   "metadata": {},
   "outputs": [
    {
     "data": {
      "text/latex": [
       "$\\displaystyle 26.8$"
      ],
      "text/plain": [
       "26.8"
      ]
     },
     "execution_count": 9,
     "metadata": {},
     "output_type": "execute_result"
    }
   ],
   "source": [
    "magVel = N(sqrt(vx**2 + vy**2),3)\n",
    "magVel"
   ]
  },
  {
   "cell_type": "markdown",
   "id": "10d55fe1",
   "metadata": {},
   "source": [
    "- Para el cálculo de la dirección hay qué tener en cuenta que los valores resultantes de los cálculos numéricos se expresan en [radianes](https://es.wikipedia.org/wiki/Radi%C3%A1n). Por lo que es necesario convertirlos a grados mediante la fórmula\n",
    "\n",
    "$$x[grad] = x [rad] \\times \\frac{180}{\\pi}$$"
   ]
  },
  {
   "cell_type": "code",
   "execution_count": 10,
   "id": "6afa6717",
   "metadata": {},
   "outputs": [
    {
     "data": {
      "text/latex": [
       "$\\displaystyle 72.6$"
      ],
      "text/plain": [
       "72.6"
      ]
     },
     "execution_count": 10,
     "metadata": {},
     "output_type": "execute_result"
    }
   ],
   "source": [
    "theta = N(atan(vy / vx) * 180 / pi, 3)\n",
    "theta"
   ]
  },
  {
   "cell_type": "markdown",
   "id": "aa0bf119",
   "metadata": {},
   "source": [
    "Se deja como ejercicio al estudiante el desarrollo del punto que corresponde a la aceleración"
   ]
  }
 ],
 "metadata": {
  "kernelspec": {
   "display_name": "Python 3",
   "language": "python",
   "name": "python3"
  },
  "language_info": {
   "codemirror_mode": {
    "name": "ipython",
    "version": 3
   },
   "file_extension": ".py",
   "mimetype": "text/x-python",
   "name": "python",
   "nbconvert_exporter": "python",
   "pygments_lexer": "ipython3",
   "version": "3.6.13"
  },
  "toc": {
   "base_numbering": 1,
   "nav_menu": {},
   "number_sections": true,
   "sideBar": true,
   "skip_h1_title": true,
   "title_cell": "Tabla de Contenidos",
   "title_sidebar": "Contenidos",
   "toc_cell": true,
   "toc_position": {
    "height": "calc(100% - 180px)",
    "left": "10px",
    "top": "150px",
    "width": "165px"
   },
   "toc_section_display": true,
   "toc_window_display": true
  }
 },
 "nbformat": 4,
 "nbformat_minor": 5
}
