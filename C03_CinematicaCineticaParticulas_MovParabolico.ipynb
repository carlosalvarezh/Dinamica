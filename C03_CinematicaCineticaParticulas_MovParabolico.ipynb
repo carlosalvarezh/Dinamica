{
 "cells": [
  {
   "cell_type": "markdown",
   "id": "2af3a432",
   "metadata": {},
   "source": [
    "<h1 align=\"center\">Dinámica</h1>\n",
    "<h1 align=\"center\">Capítulo 3: Cinemática y Cinética de partículas</h1>\n",
    "<h1 align=\"center\">Movimiento parabólico</h1>\n",
    "<h1 align=\"center\">2021/02</h1>\n",
    "<h1 align=\"center\">MEDELLÍN - COLOMBIA </h1>"
   ]
  },
  {
   "cell_type": "markdown",
   "id": "ed464c1e",
   "metadata": {},
   "source": [
    "<table>\n",
    " <tr align=left><td><img align=left src=\"https://github.com/carlosalvarezh/Dinamica/blob/main/Figs/CC-BY.png?raw=true\">\n",
    " <td>Text provided under a Creative Commons Attribution license, CC-BY. All code is made available under the FSF-approved MIT license.(c) Carlos Alberto Alvarez Henao</td>\n",
    "</table> "
   ]
  },
  {
   "cell_type": "markdown",
   "id": "d6449132",
   "metadata": {},
   "source": [
    "*** \n",
    "\n",
    "***Docente:*** Carlos Alberto Álvarez Henao, I.C. D.Sc.\n",
    "\n",
    "***e-mail:*** carlosalvarezh@gmail.com\n",
    "\n",
    "***skype:*** carlos.alberto.alvarez.henao\n",
    "\n",
    "***Linkedin:*** https://www.linkedin.com/in/carlosalvarez5/\n",
    "\n",
    "***github:*** https://github.com/carlosalvarezh/Dinamica\n",
    "\n",
    "***Herramienta:*** [Jupyter](http://jupyter.org/)\n",
    "\n",
    "***Kernel:*** Python 3.9\n",
    "\n",
    "\n",
    "***"
   ]
  },
  {
   "cell_type": "markdown",
   "id": "00a7e292",
   "metadata": {
    "toc": true
   },
   "source": [
    "<h1>Tabla de Contenidos<span class=\"tocSkip\"></span></h1>\n",
    "<div class=\"toc\"><ul class=\"toc-item\"><li><span><a href=\"#Movimiento-parabólico\" data-toc-modified-id=\"Movimiento-parabólico-1\"><span class=\"toc-item-num\">1&nbsp;&nbsp;</span>Movimiento parabólico</a></span><ul class=\"toc-item\"><li><span><a href=\"#Introducción\" data-toc-modified-id=\"Introducción-1.1\"><span class=\"toc-item-num\">1.1&nbsp;&nbsp;</span>Introducción</a></span></li><li><span><a href=\"#Análisis-cinemático\" data-toc-modified-id=\"Análisis-cinemático-1.2\"><span class=\"toc-item-num\">1.2&nbsp;&nbsp;</span>Análisis cinemático</a></span></li><li><span><a href=\"#Movimiento-horizontal\" data-toc-modified-id=\"Movimiento-horizontal-1.3\"><span class=\"toc-item-num\">1.3&nbsp;&nbsp;</span>Movimiento horizontal</a></span></li><li><span><a href=\"#Movimiento-vertical\" data-toc-modified-id=\"Movimiento-vertical-1.4\"><span class=\"toc-item-num\">1.4&nbsp;&nbsp;</span>Movimiento vertical</a></span></li><li><span><a href=\"#Comentarios-al-movimiento-curvilíneo\" data-toc-modified-id=\"Comentarios-al-movimiento-curvilíneo-1.5\"><span class=\"toc-item-num\">1.5&nbsp;&nbsp;</span>Comentarios al movimiento curvilíneo</a></span></li><li><span><a href=\"#Ejemplos-movimiento-parabólico\" data-toc-modified-id=\"Ejemplos-movimiento-parabólico-1.6\"><span class=\"toc-item-num\">1.6&nbsp;&nbsp;</span>Ejemplos movimiento parabólico</a></span></li></ul></li><li><span><a href=\"#Movimiento-curvilíneo:-Componentes-normal-y-tangencial\" data-toc-modified-id=\"Movimiento-curvilíneo:-Componentes-normal-y-tangencial-2\"><span class=\"toc-item-num\">2&nbsp;&nbsp;</span>Movimiento curvilíneo: Componentes normal y tangencial</a></span><ul class=\"toc-item\"><li><span><a href=\"#Introducción\" data-toc-modified-id=\"Introducción-2.1\"><span class=\"toc-item-num\">2.1&nbsp;&nbsp;</span>Introducción</a></span></li><li><span><a href=\"#Movimiento-plano\" data-toc-modified-id=\"Movimiento-plano-2.2\"><span class=\"toc-item-num\">2.2&nbsp;&nbsp;</span>Movimiento plano</a></span></li><li><span><a href=\"#Velocidad\" data-toc-modified-id=\"Velocidad-2.3\"><span class=\"toc-item-num\">2.3&nbsp;&nbsp;</span>Velocidad</a></span></li><li><span><a href=\"#Aceleración\" data-toc-modified-id=\"Aceleración-2.4\"><span class=\"toc-item-num\">2.4&nbsp;&nbsp;</span>Aceleración</a></span></li><li><span><a href=\"#Ejemplos-componentes-normal-y-tangencial\" data-toc-modified-id=\"Ejemplos-componentes-normal-y-tangencial-2.5\"><span class=\"toc-item-num\">2.5&nbsp;&nbsp;</span>Ejemplos componentes normal y tangencial</a></span></li></ul></li><li><span><a href=\"#Movimiento-curvilíneo:-Componentes-cilíndricos\" data-toc-modified-id=\"Movimiento-curvilíneo:-Componentes-cilíndricos-3\"><span class=\"toc-item-num\">3&nbsp;&nbsp;</span>Movimiento curvilíneo: Componentes cilíndricos</a></span><ul class=\"toc-item\"><li><span><a href=\"#Introducción\" data-toc-modified-id=\"Introducción-3.1\"><span class=\"toc-item-num\">3.1&nbsp;&nbsp;</span>Introducción</a></span></li><li><span><a href=\"#Coordenadas-polares\" data-toc-modified-id=\"Coordenadas-polares-3.2\"><span class=\"toc-item-num\">3.2&nbsp;&nbsp;</span>Coordenadas polares</a></span><ul class=\"toc-item\"><li><span><a href=\"#Posición\" data-toc-modified-id=\"Posición-3.2.1\"><span class=\"toc-item-num\">3.2.1&nbsp;&nbsp;</span>Posición</a></span></li><li><span><a href=\"#Velocidad\" data-toc-modified-id=\"Velocidad-3.2.2\"><span class=\"toc-item-num\">3.2.2&nbsp;&nbsp;</span>Velocidad</a></span></li><li><span><a href=\"#Aceleración\" data-toc-modified-id=\"Aceleración-3.2.3\"><span class=\"toc-item-num\">3.2.3&nbsp;&nbsp;</span>Aceleración</a></span></li></ul></li><li><span><a href=\"#Coordenadas-cilíndricas\" data-toc-modified-id=\"Coordenadas-cilíndricas-3.3\"><span class=\"toc-item-num\">3.3&nbsp;&nbsp;</span>Coordenadas cilíndricas</a></span></li><li><span><a href=\"#Derivadas-respecto-al-tiempo\" data-toc-modified-id=\"Derivadas-respecto-al-tiempo-3.4\"><span class=\"toc-item-num\">3.4&nbsp;&nbsp;</span>Derivadas respecto al tiempo</a></span></li><li><span><a href=\"#Ejemplos-componentes-cilíndricos\" data-toc-modified-id=\"Ejemplos-componentes-cilíndricos-3.5\"><span class=\"toc-item-num\">3.5&nbsp;&nbsp;</span>Ejemplos componentes cilíndricos</a></span></li></ul></li></ul></div>"
   ]
  },
  {
   "cell_type": "markdown",
   "id": "dcb7d3fc",
   "metadata": {},
   "source": [
    "<p float=\"center\">\n",
    "  <img src=\"https://github.com/carlosalvarezh/Dinamica/blob/main/Figs/C02Fig13_Parabolic1.gif?raw=true\" width=\"400\" />\n",
    "</p>\n",
    "\n",
    "<div style=\"text-align: right\"> Fuente: <a href=\"https://en.wikipedia.org/wiki/Projectile_motion#/media/File:Inclinedthrow2.gif\">Wikipedia</a> </div>"
   ]
  },
  {
   "cell_type": "markdown",
   "id": "7ffc490b",
   "metadata": {},
   "source": [
    "## Movimiento parabólico"
   ]
  },
  {
   "cell_type": "markdown",
   "id": "1c89c788",
   "metadata": {},
   "source": [
    "### Introducción"
   ]
  },
  {
   "cell_type": "markdown",
   "id": "8437d4aa",
   "metadata": {},
   "source": [
    "El [movimiento parabólico](https://en.wikipedia.org/wiki/Projectile_motion) es el realizado por cualquier objeto cuya trayectoria describe una [parábola](https://en.wikipedia.org/wiki/Parabola), y que corresponde con la trayectoria ideal de un proyectil que se mueve en un medio que no ofrece resistencia al avance y que esté sujeto a un campo gravitatorio uniforme. El movimiento parabólico es un ejemplo de un movimiento realizado por un objeto en dos dimensiones o sobre un plano. Puede considerarse como la combinación de dos movimientos que son un [movimiento rectilíneo uniforme](https://es.wikipedia.org/wiki/Movimiento_rectil%C3%ADneo_uniforme), en la dirección horizontal ($\\longleftrightarrow$), y un [movimiento rectilíneo uniformemente acelerado](https://es.wikipedia.org/wiki/Movimiento_rectil%C3%ADneo_uniformemente_acelerado) en la dirección vertical ($\\updownarrow$)."
   ]
  },
  {
   "cell_type": "markdown",
   "id": "28b95198",
   "metadata": {},
   "source": [
    "### Análisis cinemático"
   ]
  },
  {
   "cell_type": "markdown",
   "id": "30aa1147",
   "metadata": {},
   "source": [
    "<p float=\"center\">\n",
    "  <img src=\"https://github.com/carlosalvarezh/Dinamica/blob/main/Figs/C02Fig14_Parabolic2.PNG\n",
    "?raw=true\" width=\"350\" />\n",
    "</p>\n",
    "\n",
    "<div style=\"text-align: right\"> Fuente: <a href=\"https://www.pearson.com/us/higher-education/product/Hibbeler-Engineering-Mechanics-Dynamics-14th-Edition/9780133915389.html\n",
    "\">Hibbeler R. Engineering Mechanics: Dynamics</a> </div>\n",
    "\n",
    "\n",
    "Considere un proyectil lanzado en el punto $(x_0, y_0)$, con una velocidad inicial de $v_0$, cuyas componentes son $v_{0x}$ y $v_{0y}$. Cuando se hace caso omiso de la resistencia del aire, la única fuerza que actúa en el proyectil es su peso, el cual hace que el proyectil tenga una aceleración dirigida hacia abajo constante de aproximadamente $a_c=g=9.81 m/s^2=32.2 pies/s^2$."
   ]
  },
  {
   "cell_type": "markdown",
   "id": "64e81a4b",
   "metadata": {},
   "source": [
    "### Movimiento horizontal"
   ]
  },
  {
   "cell_type": "markdown",
   "id": "3b74347a",
   "metadata": {},
   "source": [
    "Como $a_x=0$, se pueden aplicar las ecuaciones de aceleración constante vistas en el [Capítulo 1: Movimiento Rectilíneo, numeral 2.6 Aceleración constante](./C01_CinematicaCineticaParticulas_MovRectilineo.ipynb#ac), resultando en:\n",
    "\n",
    "<a id='Ec3_1'></a>\n",
    "\\begin{equation*}\n",
    "\\begin{array}{crl}\n",
    "\\left(\\underrightarrow{+}\\right) &v=&v_0+a_ct&                   \\quad &v_x=v_{0x} \\\\\n",
    "\\left(\\underrightarrow{+}\\right) &x=&x_0+v_0t+\\frac{1}{2}a_ct^2& \\quad &x=x_0+v_{0x}t \\\\\n",
    "\\left(\\underrightarrow{+}\\right) &v^2=&v_0^2+2a_c(x-x_0)&        \\quad &v_x=v_{0x} \\\\\n",
    "\\end{array}\n",
    "\\label{eq:Ec3_1} \\tag{3.1}\n",
    "\\end{equation*}\n"
   ]
  },
  {
   "cell_type": "markdown",
   "id": "be675675",
   "metadata": {},
   "source": [
    "### Movimiento vertical"
   ]
  },
  {
   "cell_type": "markdown",
   "id": "6caac450",
   "metadata": {},
   "source": [
    "Estableciendo el sistema de coordenadas con el eje $y$ positivo hacia arriba, se tiene entonces que $a_y=-g$ y aplicando las ecuaciones de aceleración constante como visto en el ítem anterior, se llega a:\n",
    "\n",
    "<a id='Ec3_2'></a>\n",
    "\\begin{equation*}\n",
    "\\begin{array}{crl}\n",
    "\\left(+\\uparrow \\right) &v=&v_0+a_ct&                   \\quad &v_y=v_{0y}-gt \\\\\n",
    "\\left(+\\uparrow \\right) &y=&y_0+v_0t+\\frac{1}{2}a_ct^2& \\quad &y=y_0+v_{0y}t-\\frac{1}{2}gt^2 \\\\\n",
    "\\left(+\\uparrow \\right) &v^2=&v_0^2+2a_c(y-y_0)&        \\quad &v_y^2=v_{0y}^2-2g \\left(y-y_0  \\right) \\\\\n",
    "\\end{array}\n",
    "\\label{eq:Ec3_2} \\tag{3.2}\n",
    "\\end{equation*}\n"
   ]
  },
  {
   "cell_type": "markdown",
   "id": "f49e8060",
   "metadata": {},
   "source": [
    "### Comentarios al movimiento curvilíneo"
   ]
  },
  {
   "cell_type": "markdown",
   "id": "11473f63",
   "metadata": {},
   "source": [
    "- En el movimiento horizontal la primera y la tercera ecuación implican que la componente horizontal de la velocidad siempre permanece constante durante la realización del movimiento.\n",
    "\n",
    "\n",
    "- En el movimiento vertical, la última ecuación puede formularse eliminando el término del tiempo de las dos primeras ecuaciones, por lo que, solo dos de las tres ecuaciones son independientes entre ellas.\n",
    "\n",
    "\n",
    "- De lo anterior se concluye que los problemas que involucran movimiento parabólico pueden tener como máximo tres incógnitas, ya que solo se podrán escribir tres ecuaciones independientes: una ecuación en la dirección horizontal y dos en la dirección vertical.\n",
    "\n",
    "\n",
    "- La velocidad resultante $v$, que siempre será tangente a la trayectoria, se determinará por medio de la suma vectorial de sus componentes $v_x$ y $v_y$."
   ]
  },
  {
   "cell_type": "markdown",
   "id": "88ce405c",
   "metadata": {},
   "source": [
    "### Ejemplos movimiento parabólico"
   ]
  },
  {
   "cell_type": "markdown",
   "id": "885895d1",
   "metadata": {},
   "source": [
    "<table id=\"mytable\" border=0> \n",
    "<tr> \n",
    "<td rowspan=\"2\"> <img src=\"https://github.com/carlosalvarezh/Dinamica/blob/main/Figs/C03Fig01_Sacos.PNG\n",
    "?raw=true\" width=\"400\"/> \n",
    "</td>\n",
    "<td style=\"height:50%\">\n",
    "<div style=\"text-align: right\"> <b>Ejemplo 12.11:</b> <a href=\"https://www.pearson.com/us/higher-education/product/Hibbeler-Engineering-Mechanics-Dynamics-14th-Edition/9780133915389.html\n",
    "\">Hibbeler R. Engineering Mechanics: Dynamics</a> </div>\n",
    "\n",
    "<p>Un saco se desliza por la rampa, como se ve en la figura, con una velocidad horizontal de $12 m/s$. Si la altura de la rampa es de $6 m$, determine el tiempo necesario para que el saco choque con el suelo y la distancia $R$ donde los sacos comienzan a apilarse</p>\n",
    "</td>\n",
    "</tr>\n",
    "</table>\n",
    "\n",
    "***Solución analítica:***\n",
    "\n",
    "- ***Sistema de coordenadas*** Se establece el origen en el punto $A$, donde comienza la trayectoria de la partícula (saco). Se observa que la velocidad inicial del saco presenta dos componentes, donde $v_{Ax}=12m/s$ y $v_{Ay}=0$. La acelaración en todo el recorrido, entre $A$ y $B$, es de $a_y=-9.81 m/s^2$. También se observa que se cumple que $v_{Bx}=v_{Ax}=12m/s$ (por qué?). Con lo anterior, las tres incógnitas restantes son $v_{By}$, $R$, y el tiempo de vuelo $t_{AB}$.\n",
    "\n",
    "\n",
    "- ***Movimiento vertical $\\left(+\\uparrow \\right)$:*** Del enunciado, se conoce la distancia vertical $A-B$, que será $y_B=6m$\n",
    "\n",
    "$$y_B=y_A+v_{Ay}t_{AB}+\\frac{1}{2}a_ct_{AB}^2$$\n",
    "\n",
    "reemplazando valores se tiene\n",
    "\n",
    "$$0=6m+0 \\times t_{AB}+\\frac{1}{2}(-9.81m/s^2)t_{AB}^2$$\n",
    "\n",
    "$$t_{AB}=1.11 s$$\n",
    "\n",
    "Una vez calculado el tiempo, la distancia horizontal, $R$ se determina así:\n",
    "\n",
    "\n",
    "- ***Movimiento horizontal $\\left(\\underrightarrow{+}\\right)$:***\n",
    "\n",
    "$$x_B=x_A+v_{Ax}t_{AB}$$\n",
    "$$R=0+12m/s(1.11s)$$\n",
    "$$R=13.3m$$\n",
    "\n",
    "\n",
    "***Solución computacional:***"
   ]
  },
  {
   "cell_type": "code",
   "execution_count": null,
   "id": "a30459bc",
   "metadata": {},
   "outputs": [],
   "source": [
    "import numpy as np\n",
    "import matplotlib.pyplot as plt\n",
    "from sympy import *\n",
    "import seaborn as sns\n",
    "\n",
    "t,R = symbols('t R')\n",
    "init_printing(use_latex='mathjax')"
   ]
  },
  {
   "cell_type": "code",
   "execution_count": null,
   "id": "e5760678",
   "metadata": {},
   "outputs": [],
   "source": [
    "# condiciones iniciales\n",
    "x0 = 0     # coordenada xA\n",
    "y0 = 6     # coordenada yA\n",
    "v0x = 12   # Veloc en A en la dirección x\n",
    "v0y = 0    # Veloc en A en la dirección y\n",
    "y = 0      # Altura final \n",
    "ac = -9.81 # aceleración debida a la gravedad"
   ]
  },
  {
   "cell_type": "code",
   "execution_count": null,
   "id": "695515ec",
   "metadata": {},
   "outputs": [],
   "source": [
    "# Ecuación del movimiento vertical\n",
    "yd2 = Eq(y, y0 + v0y * t + ac * t**2 / 2)\n",
    "yd2"
   ]
  },
  {
   "cell_type": "code",
   "execution_count": null,
   "id": "5b85c376",
   "metadata": {
    "scrolled": true
   },
   "outputs": [],
   "source": [
    "# Resolviendo para t\n",
    "tiempo = solve(yd2,t)\n",
    "print(\"El tiempo de caída de cada saco es de {0:6.4f} s\".format(tiempo[1]))"
   ]
  },
  {
   "cell_type": "code",
   "execution_count": null,
   "id": "4540672e",
   "metadata": {},
   "outputs": [],
   "source": [
    "tiempo"
   ]
  },
  {
   "cell_type": "code",
   "execution_count": null,
   "id": "6cd006a9",
   "metadata": {},
   "outputs": [],
   "source": [
    "xd2 = Eq(R, x0 + v0x * tiempo[0])\n",
    "xd2"
   ]
  },
  {
   "cell_type": "code",
   "execution_count": null,
   "id": "2453d632",
   "metadata": {},
   "outputs": [],
   "source": [
    "# Ecuación del movimiento horizontal\n",
    "R = float(x0 + v0x * tiempo[0])\n",
    "print(\"La distancia a la que caerá cada saco es de {0:6.4f} m\".format(R))"
   ]
  },
  {
   "cell_type": "code",
   "execution_count": null,
   "id": "44e82be5",
   "metadata": {},
   "outputs": [],
   "source": [
    "# Graficando\n",
    "t = np.linspace(0,np.around(float(tiempo[1]), decimals = 4),100)\n",
    "\n",
    "x = x0 + v0x * t\n",
    "y = y0 + v0y * t + ac * t**2 / 2\n",
    "\n",
    "plt.plot(x,y);\n",
    "plt.xlabel(\"x(m)\")\n",
    "plt.ylabel(\"y(m)\")\n",
    "plt.grid(True)"
   ]
  },
  {
   "cell_type": "markdown",
   "id": "2dad98aa",
   "metadata": {},
   "source": [
    "## Movimiento curvilíneo: Componentes normal y tangencial"
   ]
  },
  {
   "cell_type": "markdown",
   "id": "8b0145ee",
   "metadata": {},
   "source": [
    "### Introducción"
   ]
  },
  {
   "cell_type": "markdown",
   "id": "2c2a03f6",
   "metadata": {},
   "source": [
    "<p float=\"center\">\n",
    "  <img src=\"https://github.com/carlosalvarezh/Dinamica/blob/main/Figs/C03Fig03_n-t_posicion.PNG\n",
    "?raw=true\" width=\"250\" />\n",
    "</p>\n",
    "\n",
    "<div style=\"text-align: right\"> Fuente: <a href=\"https://www.pearson.com/us/higher-education/product/Hibbeler-Engineering-Mechanics-Dynamics-14th-Edition/9780133915389.html\n",
    "\">Hibbeler R. Engineering Mechanics: Dynamics</a> </div>\n",
    "\n",
    "A veces es más conveniente emplear como sistema de referencia las coordenadas $n-t$, que expresan las componentes *normal* y *tangencial* a la trayectoria."
   ]
  },
  {
   "cell_type": "markdown",
   "id": "68a6b8c8",
   "metadata": {},
   "source": [
    "### Movimiento plano"
   ]
  },
  {
   "cell_type": "markdown",
   "id": "4cc31ed6",
   "metadata": {},
   "source": [
    "<p float=\"center\">\n",
    "  <img src=\"https://github.com/carlosalvarezh/Dinamica/blob/main/Figs/C03Fig04_Curvatura.PNG\n",
    "?raw=true\" width=\"250\" />\n",
    "</p>\n",
    "\n",
    "<div style=\"text-align: right\"> Fuente: <a href=\"https://www.pearson.com/us/higher-education/product/Hibbeler-Engineering-Mechanics-Dynamics-14th-Edition/9780133915389.html\n",
    "\">Hibbeler R. Engineering Mechanics: Dynamics</a> </div>\n",
    "\n",
    "Sea una partícula que se desplaza en el plano a lo largo de una curva fija, tal que en un instante dado está en la posición $s$ medida respecto a $O'$. Considere un sistema de ejes coordenados con origen en un punto fijo de la curva y, en un instante determinado, éste coincide con la ubicación de la partícula. El eje $t$ es tangente a la curva en el punto y positivo en la dirección de $s$, denominada con el vector unitario $\\vec{\\boldsymbol{u}}_t$. La determinación del eje normal, $\\vec{\\boldsymbol{u}}_n$ es inmediata, ya que solo existe una única posibilidad, siendo positivo en la dirección hacia el centro de la curva. La curva se forma por una serie de segmentos de arco de tamaño $ds$ y cada uno de estos segmentos es formado por el arco de un círculo con radio de curvatura $\\rho$ y centro $O'$. El plano que se genera por los ejes $n-t$ se denomina *[plano osculador](https://es.wikipedia.org/wiki/Geometr%C3%ADa_diferencial_de_curvas#Plano_osculador)*, y está fijo en el plano del movimiento.\n",
    "\n"
   ]
  },
  {
   "cell_type": "markdown",
   "id": "3197ddf5",
   "metadata": {},
   "source": [
    "### Velocidad"
   ]
  },
  {
   "cell_type": "markdown",
   "id": "44354fc1",
   "metadata": {},
   "source": [
    "<p float=\"center\">\n",
    "  <img src=\"https://github.com/carlosalvarezh/Dinamica/blob/main/Figs/C03Fig05_Velocidad.PNG\n",
    "?raw=true\" width=\"250\" />\n",
    "</p>\n",
    "\n",
    "<div style=\"text-align: right\"> Fuente: <a href=\"https://www.pearson.com/us/higher-education/product/Hibbeler-Engineering-Mechanics-Dynamics-14th-Edition/9780133915389.html\n",
    "\">Hibbeler R. Engineering Mechanics: Dynamics</a> </div>\n",
    "\n",
    "Como se ha indicado en las secciones anteriores, la partícula se encuentra en movimiento, por lo que el desplazamiento es una función del tiempo, $s(t)$. La dirección de la velocidad de la partícula siempre es tangente a la trayectoria y su magnitud se determina por la derivada respecto al tiempo de la función de la trayectoria. Entonces:\n",
    "\n",
    "<a id='Ec3_3'></a>\n",
    "\\begin{equation*}\n",
    "\\boldsymbol{v}=v\\boldsymbol{u}_t\n",
    "\\label{eq:Ec3_3} \\tag{3.3}\n",
    "\\end{equation*}\n",
    "\n",
    "donde\n",
    "\n",
    "<a id='Ec3_4'></a>\n",
    "\\begin{equation*}\n",
    "v=\\dot{s}\n",
    "\\label{eq:Ec3_4} \\tag{3.4}\n",
    "\\end{equation*}\n"
   ]
  },
  {
   "cell_type": "markdown",
   "id": "d5e6960a",
   "metadata": {},
   "source": [
    "### Aceleración"
   ]
  },
  {
   "cell_type": "markdown",
   "id": "6050bd76",
   "metadata": {},
   "source": [
    "<p float=\"center\">\n",
    "  <img src=\"https://github.com/carlosalvarezh/Dinamica/blob/main/Figs/C03Fig06_Aceleracion0.PNG\n",
    "?raw=true\" width=\"250\" />\n",
    "</p>\n",
    "\n",
    "<div style=\"text-align: right\"> Fuente: <a href=\"https://www.pearson.com/us/higher-education/product/Hibbeler-Engineering-Mechanics-Dynamics-14th-Edition/9780133915389.html\n",
    "\">Hibbeler R. Engineering Mechanics: Dynamics</a> </div>\n",
    "\n",
    "El cambio de la velocidad de la partícula respecto al tiempo es la aceleración. Entonces\n",
    "\n",
    "<a id='Ec3_5'></a>\n",
    "\\begin{equation*}\n",
    "\\boldsymbol{a}=\\dot{\\boldsymbol{v}}=\\dot{v}\\boldsymbol{u}_t + v\\dot{\\boldsymbol{u}}_t\n",
    "\\label{eq:Ec3_5} \\tag{3.5}\n",
    "\\end{equation*}\n",
    "\n",
    "Falta determinar la derivada de $\\dot{\\boldsymbol{u}}_t$ respecto al tiempo. A medida que la partícula se desplaza a lo largo de un arco $ds$ en un diferencial de tiempo $dt$, $\\boldsymbol{u}_t$ su dirección varía y pasa a ser $\\boldsymbol{u}'_t$, donde $\\boldsymbol{u}'_t=\\boldsymbol{u}_t+d\\boldsymbol{u}_t$. Observe que $d\\boldsymbol{u}_t$ va de las puntas de $\\boldsymbol{u}_t$ a $\\boldsymbol{u}'_t$, que se extienden en un arco infinitesimal de magnitud $u_t=1$ (unitaria). Por lo tanto, $d\\boldsymbol{u}_t=d\\theta \\boldsymbol{u}_n$, por lo que la derivada con respecto al tiempo es $\\dot{\\boldsymbol{u}}_t=\\dot{\\theta}\\boldsymbol{u}_n$. \n",
    "\n",
    "<p float=\"center\">\n",
    "  <img src=\"https://github.com/carlosalvarezh/Dinamica/blob/main/Figs/C03Fig07_dut.PNG\n",
    "?raw=true\" width=\"150\" />\n",
    "</p>\n",
    "\n",
    "<div style=\"text-align: right\"> Fuente: <a href=\"https://www.pearson.com/us/higher-education/product/Hibbeler-Engineering-Mechanics-Dynamics-14th-Edition/9780133915389.html\n",
    "\">Hibbeler R. Engineering Mechanics: Dynamics</a> </div>\n",
    "\n",
    "Observe también que $ds=\\rho d\\theta$, entonces $\\dot{\\theta}=\\dot{s}/\\rho$, resultando\n",
    "\n",
    "$$\\dot{\\boldsymbol{u}}_t=\\dot{\\theta}\\boldsymbol{u}_n=\\frac{\\dot{s}}{\\rho}\\boldsymbol{u}_n=\\frac{v}{\\rho}\\boldsymbol{u}_n$$\n",
    "\n",
    "Sustituyendo en la [Ec. 3.4](#Ec3_4) se puede reescribir $\\boldsymbol{a}$ como la suma de las componentes tangencial y normal:\n",
    "\n",
    "<p float=\"center\">\n",
    "  <img src=\"https://github.com/carlosalvarezh/Dinamica/blob/main/Figs/C03Fig08_Aceleracion1.PNG\n",
    "?raw=true\" width=\"250\" />\n",
    "</p>\n",
    "\n",
    "<div style=\"text-align: right\"> Fuente: <a href=\"https://www.pearson.com/us/higher-education/product/Hibbeler-Engineering-Mechanics-Dynamics-14th-Edition/9780133915389.html\n",
    "\">Hibbeler R. Engineering Mechanics: Dynamics</a> </div>\n",
    "\n",
    "<a id='Ec3_6'></a>\n",
    "\\begin{equation*}\n",
    "\\boldsymbol{a} = a_t \\boldsymbol{u}_t + a_n \\boldsymbol{u}_n\n",
    "\\label{eq:Ec3_6} \\tag{3.6}\n",
    "\\end{equation*}\n",
    "\n",
    "donde la componente tangencial es dada por\n",
    "\n",
    "<a id='Ec3_7'></a>\n",
    "\\begin{equation*}\n",
    "a_t = \\dot{v} \\qquad \\text{o} \\qquad a_t ds = vdv\n",
    "\\label{eq:Ec3_7} \\tag{3.7}\n",
    "\\end{equation*}\n",
    "\n",
    "la componente normal, por\n",
    "\n",
    "<a id='Ec3_8'></a>\n",
    "\\begin{equation*}\n",
    "a_n = \\frac{v^2}{\\rho}\n",
    "\\label{eq:Ec3_8} \\tag{3.8}\n",
    "\\end{equation*}\n",
    "\n",
    "y la magnitud de la aceleración está dada por\n",
    "\n",
    "<a id='Ec3_9'></a>\n",
    "\\begin{equation*}\n",
    "a = \\sqrt{a^2_t + a^2_n}\n",
    "\\label{eq:Ec3_9} \\tag{3.9}\n",
    "\\end{equation*}\n",
    "\n",
    "\n",
    "***Comentarios***\n",
    "\n",
    "- Si la partícula se mueve a lo largo de una línea recta entonces $\\rho \\rightarrow \\infty$ y por la [Ec. 3.8](#Ec3_8), $a_=0$. Con esto $a=a_t = \\dot{v}$, y se puede concluir que *la componente tangencial de la aceleración representa el cambio en la magnitud de la velocidad*.\n",
    "\n",
    "\n",
    "- Si la partícula se mueve a lo largo de una curva con velocidad constante, entonces $a_t=\\dot{v}=0$ y $a=a_n=v^2/\\rho$. Por lo tanto, *la componente normal de la aceleración representa el cambio en la dirección de la velocidad*. Como $a_n$ siempre actúa hacia el centro de la curvatura, esta componente en ocasiones se conoce como la [aceleración centrípeta](https://en.wikipedia.org/wiki/Centripetal_force) (\"*que busca el centro*\").\n",
    "\n",
    "\n",
    "- Expresando la trayectoria de la partícula como $y=f(x)$, el radio de curvatura en cualquier punto de la trayectoria se determina por la ecuación:\n",
    "\n",
    "<a id='Ec3_10'></a>\n",
    "\\begin{equation*}\n",
    "\\rho=\\frac{\\left[1 + (dy/dx)^2\\right]^{3/2}}{|d^2y/dx^2|}\n",
    "\\label{eq:Ec3_10} \\tag{3.10}\n",
    "\\end{equation*}\n",
    "\n",
    "Como consecuencia de lo anterior, una partícula que se mueve a lo largo de una trayectoria curva tendrá una aceleración como la mostrada en la figura:\n",
    "\n",
    "<p float=\"center\">\n",
    "  <img src=\"https://github.com/carlosalvarezh/Dinamica/blob/main/Figs/C03Fig09_Aceleracion2.PNG\n",
    "?raw=true\" width=\"450\" />\n",
    "</p>\n",
    "\n",
    "<div style=\"text-align: right\"> Fuente: <a href=\"https://www.pearson.com/us/higher-education/product/Hibbeler-Engineering-Mechanics-Dynamics-14th-Edition/9780133915389.html\n",
    "\">Hibbeler R. Engineering Mechanics: Dynamics</a> </div>"
   ]
  },
  {
   "cell_type": "markdown",
   "id": "19010f97",
   "metadata": {},
   "source": [
    "### Ejemplos componentes normal y tangencial"
   ]
  },
  {
   "cell_type": "markdown",
   "id": "9017bb7b",
   "metadata": {},
   "source": [
    "<table id=\"mytable\" border=0> \n",
    "<tr> \n",
    "<td rowspan=\"2\"> <img src=\"https://github.com/carlosalvarezh/Dinamica/blob/main/Figs/C03Fig10_Esquiador.PNG\n",
    "?raw=true\" width=\"800\"/> \n",
    "</td>\n",
    "<td style=\"height:50%\">\n",
    "<div style=\"text-align: right\"> <b>Ejemplo 12.14:</b> <a href=\"https://www.pearson.com/us/higher-education/product/Hibbeler-Engineering-Mechanics-Dynamics-14th-Edition/9780133915389.html\n",
    "\">Hibbeler R. Engineering Mechanics: Dynamics</a> </div>\n",
    "\n",
    "<p>Cuando el esquiador llega al punto $A$ a lo largo de la trayectoria parabólica en la figura, su rapidez es de $6 m/s$, la cual se incrementa a $2 m/s^2$. Determine la dirección de su velocidad y la dirección y magnitud de su aceleración en este instante. Al hacer el cálculo, pase por alto la estatura del esquiador..</p>\n",
    "</td>\n",
    "</tr>\n",
    "</table>\n",
    "\n",
    "- ***Sistema de coordenadas:***\n",
    "\n",
    "Se establece el origen de los ejes $n-t$ en el punto fijo $A$ de la trayectoria.\n",
    "\n",
    "\n",
    "- ***Velocidad:***\n",
    "\n",
    "Como se definió, la velocidad será siempre tangente a la trayectoria. Como $y = \\frac{1}{20}x^2$, su derivada es $\\frac{dy}{dx}=\\frac{1}{10}x$, reemplazando cuando $x=10m$, $\\frac{dy}{dx}=1$. Por lo tanto, en $A$, $\\boldsymbol{v}$ forma un ángulo $\\theta=\\tan^{-1}(1)=45^{\\circ}$ con el eje $x$. Con esto, la velocidad en $A$ es \n",
    "\n",
    "$$v_A=6m/s \\quad 45^{\\circ}\\measuredangle$$\n",
    "\n",
    "\n",
    "- ***Aceleración:***\n",
    "\n",
    "Reemplazando las [Ecs. 3.7 y 3.8](#Ec3_7) en la [Ec. 3.6](#Ec3_6) para determinar la aceleración, se llega a:\n",
    "\n",
    "$$\\boldsymbol{a}=\\dot{v}\\boldsymbol{u}_t+\\frac{v^2}{\\rho}\\boldsymbol{u}_n$$\n",
    "\n",
    "De esta ecuación se desconoce el radio de curvatura $\\rho$ de la trayectoria en el punto $A(10,5)$. Empleando la [Ec. 3.10](#Ec3.10) y reemplazando el valor de la coordenada:\n",
    "\n",
    "$$\\rho=\\frac{\\left[1 + (dy/dx)^2\\right]^{3/2}}{|d^2y/dx^2|}=\\left. \\frac{\\left[1 + (x/10)^2\\right]^{3/2}}{|1/10|} \\right|_{x=10m}=28.28m$$\n",
    "\n",
    "\n",
    "Con lo anterior, la dirección de la aceleración está dada por\n",
    "\n",
    "$$\n",
    "\\begin{align*}\n",
    "\\boldsymbol{a} & = \\dot{v} \\boldsymbol{u}_t + \\frac{v^2}{\\rho} \\boldsymbol{u}_n \\\\\n",
    " & = 2 \\boldsymbol{u}_t + \\frac{(6m/s)^2}{28.28m} \\boldsymbol{u}_n \\\\\n",
    " & = (2 \\boldsymbol{u}_t + 1.273 \\boldsymbol{u}_n) m/s^2\n",
    "\\end{align*}\n",
    "$$\n",
    "\n",
    "y cada una de las componentes se representan en la siguiente figura.\n",
    "\n",
    "<a id='Fig_angulos'></a>\n",
    "<p float=\"center\">\n",
    "  <img src=\"https://github.com/carlosalvarezh/Dinamica/blob/main/Figs/C03Fig11_Esquiador1.PNG\n",
    "?raw=true\" width=\"125\" />\n",
    "</p>\n",
    "\n",
    "<div style=\"text-align: right\"> Fuente: <a href=\"https://www.pearson.com/us/higher-education/product/Hibbeler-Engineering-Mechanics-Dynamics-14th-Edition/9780133915389.html\n",
    "\">Hibbeler R. Engineering Mechanics: Dynamics</a> </div>\n",
    "\n",
    "por último, la magnitud de la aceleración está dada por\n",
    "\n",
    "$$a=\\sqrt{(2m/s^2)^2+(1.273 m/s^2)^2}=2.37 m/s^2$$\n",
    "\n",
    "el ángulo sería\n",
    "\n",
    "$$\\phi = \\tan^{-1}\\left(\\frac{2}{1.273} \\right)=57.5^{\\circ}$$\n",
    "\n",
    "De la figura:\n",
    "\n",
    "$$45^{\\circ}+90^{\\circ}+57.5^{\\circ}-180^{\\circ}=12.5^{\\circ}$$\n",
    "\n",
    "entonces, \n",
    "\n",
    "$$\\boldsymbol{a}=2.37 m/s^2 \\quad 12.5^{\\circ} \\measuredangle$$\n",
    "\n",
    "Ahora vamos a realizar la solución empleando programación con el ecosistema `python`"
   ]
  },
  {
   "cell_type": "code",
   "execution_count": null,
   "id": "030072f2",
   "metadata": {},
   "outputs": [],
   "source": [
    "x = symbols('x')\n",
    "ut, un = symbols('ut un')"
   ]
  },
  {
   "cell_type": "markdown",
   "id": "1555c480",
   "metadata": {},
   "source": [
    "La ecuación que determina la trayectoria de la partícula está dada por"
   ]
  },
  {
   "cell_type": "code",
   "execution_count": null,
   "id": "9aea22dd",
   "metadata": {},
   "outputs": [],
   "source": [
    "y = x**2 / 20"
   ]
  },
  {
   "cell_type": "markdown",
   "id": "890e6f0b",
   "metadata": {},
   "source": [
    "Y la velocidad de la partícula, cuya magnitud es la misma rapidez, segun el enunciado es"
   ]
  },
  {
   "cell_type": "code",
   "execution_count": null,
   "id": "bbc75c56",
   "metadata": {},
   "outputs": [],
   "source": [
    "v = 6"
   ]
  },
  {
   "cell_type": "markdown",
   "id": "84b45cf6",
   "metadata": {},
   "source": [
    "Ahora se deriva la ecuación de la trayectoria respecto a la variable $x$"
   ]
  },
  {
   "cell_type": "code",
   "execution_count": null,
   "id": "d878bb2b",
   "metadata": {},
   "outputs": [],
   "source": [
    "dydx = diff(y,x)\n",
    "dydx"
   ]
  },
  {
   "cell_type": "markdown",
   "id": "391caa9f",
   "metadata": {},
   "source": [
    "reemplazando en $x=10m$"
   ]
  },
  {
   "cell_type": "code",
   "execution_count": null,
   "id": "075b8164",
   "metadata": {},
   "outputs": [],
   "source": [
    "dydx = N(dydx.subs(x,10),4)\n",
    "print(\"{0:6.1f}\".format(dydx))"
   ]
  },
  {
   "cell_type": "markdown",
   "id": "e70dacf2",
   "metadata": {},
   "source": [
    "con esto, se calcula el ángulo que determina la direccion de la velocidad"
   ]
  },
  {
   "cell_type": "code",
   "execution_count": null,
   "id": "9b08984a",
   "metadata": {},
   "outputs": [],
   "source": [
    "theta = N(atan(dydx)*180/np.pi,4)\n",
    "print(\"{0:6.1f}\".format(theta))"
   ]
  },
  {
   "cell_type": "markdown",
   "id": "24726d6f",
   "metadata": {},
   "source": [
    "El cálculo de la aceleración se realiza mediante la siguiente ecuación:\n",
    "\n",
    "$$\\boldsymbol{a} = \\dot{v} \\boldsymbol{u}_t + \\frac{v^2}{\\rho} \\boldsymbol{u}_n$$\n",
    "\n",
    "se debe calcular el radio de curvatura $\\rho$ con la [Ec. 3.10](#Ec3_10), que a su vez requiere del cálculo de la segunda derivada de la función de la trayectoria, $y$, respecto a $x$. Del enunciado se determina que $\\dot{v}=2 m/s$."
   ]
  },
  {
   "cell_type": "code",
   "execution_count": null,
   "id": "cd1c6292",
   "metadata": {},
   "outputs": [],
   "source": [
    "d2ydx2 = diff(y,x,2)\n",
    "d2ydx2"
   ]
  },
  {
   "cell_type": "code",
   "execution_count": null,
   "id": "bae6fc8f",
   "metadata": {},
   "outputs": [],
   "source": [
    "rho = N((1 + dydx**2)**(3/2) / d2ydx2,4)\n",
    "print(\"{0:6.4f}\".format(rho))"
   ]
  },
  {
   "cell_type": "code",
   "execution_count": null,
   "id": "dc3c9cd5",
   "metadata": {},
   "outputs": [],
   "source": [
    "v_dot = 2"
   ]
  },
  {
   "cell_type": "markdown",
   "id": "06685028",
   "metadata": {},
   "source": [
    "Con lo anterior, se construye la expresión para la aceleración"
   ]
  },
  {
   "cell_type": "code",
   "execution_count": null,
   "id": "4a780d17",
   "metadata": {},
   "outputs": [],
   "source": [
    "v2rho = v**2 / rho"
   ]
  },
  {
   "cell_type": "code",
   "execution_count": null,
   "id": "c9b90fca",
   "metadata": {},
   "outputs": [],
   "source": [
    "a_A = v_dot * ut + v2rho * un\n",
    "a_A"
   ]
  },
  {
   "cell_type": "markdown",
   "id": "29842154",
   "metadata": {},
   "source": [
    "Ahora se calculará la magnitud de la aceleración, dada por la [Ec. 3.9](#Ec3_9)"
   ]
  },
  {
   "cell_type": "code",
   "execution_count": null,
   "id": "3b13e250",
   "metadata": {},
   "outputs": [],
   "source": [
    "a_mag = sqrt(v_dot**2 + v2rho**2)\n",
    "print(\"{0:6.1f}\".format(a_mag))"
   ]
  },
  {
   "cell_type": "markdown",
   "id": "9e9b5610",
   "metadata": {},
   "source": [
    "por último, calculamos el ángulo para la dirección de la aceleración"
   ]
  },
  {
   "cell_type": "code",
   "execution_count": null,
   "id": "4d63630a",
   "metadata": {},
   "outputs": [],
   "source": [
    "phi = atan(v_dot / v2rho) * 180 / np.pi\n",
    "print(\"{0:6.1f}\".format(phi))"
   ]
  },
  {
   "cell_type": "markdown",
   "id": "34fb83b8",
   "metadata": {},
   "source": [
    "De la [figura](#Fig_angulos) donde se expresan los ángulos, se determina cuál sería la dirección"
   ]
  },
  {
   "cell_type": "code",
   "execution_count": null,
   "id": "a05a264f",
   "metadata": {},
   "outputs": [],
   "source": [
    "a = 45 + 90 + phi - 180\n",
    "print(\"{0:6.1f}\".format(a))"
   ]
  },
  {
   "cell_type": "markdown",
   "id": "2140e187",
   "metadata": {},
   "source": [
    "<div class=\"alert alert alert-success\">\n",
    "$\\color{red}{\\textbf{Actividad para ser realizada por el estudiante:}}$\n",
    "\n",
    "<ul>\n",
    "<li>Realizar computacionalmente los otros ejemplos del capítulo que aparecen en el libro de Hibbeler, sección 12.7, ejemplos 12-15 y 12-16 (pags. 58 y 59).</li> \n",
    "\n",
    "\n",
    "<li>También se invita a que desarrollen al menos un ejercicio de los problemas fundamentales (pag. 60), y ejercicios de los problemas (pags. 61 - 67), dividiendolos en tres partes: dos ejercicios del tercio inferior, dos del tercio medio y dos del tercio superior, tanto analíticamente (\"a mano\") como computacionalmente. </li>\n",
    "</ul>\n",
    "</div>"
   ]
  },
  {
   "cell_type": "markdown",
   "id": "6aab8bb0",
   "metadata": {},
   "source": [
    "## Movimiento curvilíneo: Componentes cilíndricos"
   ]
  },
  {
   "cell_type": "markdown",
   "id": "28c9a198",
   "metadata": {},
   "source": [
    "### Introducción"
   ]
  },
  {
   "cell_type": "markdown",
   "id": "84111f0b",
   "metadata": {},
   "source": [
    "En ciertos problemas cuyo movimiento de la partícula describe una trayectoria curva, la descripción de dicho movimiento se describe de mejor forma (más simple) empleando un [sistema de coordenadas cilíndricas](https://en.wikipedia.org/wiki/Cylindrical_coordinate_system). Si el movimiento se limita a un plano se emplea un [sistema de coordenadas polares](https://en.wikipedia.org/wiki/Polar_coordinate_system)."
   ]
  },
  {
   "cell_type": "markdown",
   "id": "ca43cfb1",
   "metadata": {},
   "source": [
    "### Coordenadas polares"
   ]
  },
  {
   "cell_type": "markdown",
   "id": "428a4f96",
   "metadata": {},
   "source": [
    "<p float=\"center\">\n",
    "  <img src=\"https://github.com/carlosalvarezh/Dinamica/blob/main/Figs/C03Fig12_polar_Posicion.PNG\n",
    "?raw=true\" width=\"250\" />\n",
    "</p>\n",
    "\n",
    "<div style=\"text-align: right\"> Fuente: <a href=\"https://www.pearson.com/us/higher-education/product/Hibbeler-Engineering-Mechanics-Dynamics-14th-Edition/9780133915389.html\n",
    "\">Hibbeler R. Engineering Mechanics: Dynamics</a> </div>\n",
    "\n",
    "La posición de la partícula en la figura se determina mediante una coordenada radial $r$, que se extiende desde el origen $O$ hasta la partícula, y el ángulo $\\theta$ entre un eje horizontal que sirve como referencia y $r$, medido en sentido antihorario. Las componentes $\\boldsymbol{u}_r$ y $\\boldsymbol{u}_{\\theta}$ se defienen en la dirección positiva de $r$ y $\\theta$ respectivamente."
   ]
  },
  {
   "cell_type": "markdown",
   "id": "e93f1dae",
   "metadata": {},
   "source": [
    "#### Posición"
   ]
  },
  {
   "cell_type": "markdown",
   "id": "a9b38686",
   "metadata": {},
   "source": [
    "La posición de la partícula se define por el vector posición\n",
    "\n",
    "<a id='Ec3_11'></a>\n",
    "\\begin{equation*}\n",
    "\\boldsymbol{r}=r\\boldsymbol{u}_r\n",
    "\\label{eq:Ec3_11} \\tag{3.11}\n",
    "\\end{equation*}"
   ]
  },
  {
   "cell_type": "markdown",
   "id": "4a28e13c",
   "metadata": {},
   "source": [
    "#### Velocidad"
   ]
  },
  {
   "cell_type": "markdown",
   "id": "902ecefb",
   "metadata": {},
   "source": [
    "La velocidad es la derivada de $\\boldsymbol{r}$ respecto al tiempo\n",
    "\n",
    "<a id='Ec3_12'></a>\n",
    "\\begin{equation*}\n",
    "\\boldsymbol{v}=\\boldsymbol{\\dot{r}}=\\dot{r}\\boldsymbol{u}_r+r\\boldsymbol{\\dot{u}}_r\n",
    "\\label{eq:Ec3_12} \\tag{3.12}\n",
    "\\end{equation*}\n",
    "\n",
    "En la evaluación de $\\boldsymbol{\\dot{u}}_r$, obsérvese que $\\boldsymbol{u}_r$ únicamente cambia de dirección respecto al tiempo, ya que por definición la magnitud del vector es unitaria. En un tiempo $\\Delta t$, el cambio $\\Delta r$ no cambiará la dirección de $\\boldsymbol{u}_r$, sin embargo, un cambio $\\Delta \\theta$ proporcionará que $\\boldsymbol{u}_r$ cambie a $\\boldsymbol{u}'_r$, con $\\boldsymbol{u}'_r=\\boldsymbol{u}_r+\\Delta \\boldsymbol{u}_r$. Entonces, el cambio de $\\boldsymbol{u}_r$ es por lo tanto $\\Delta \\boldsymbol{u}_r$. Si $\\Delta \\theta$ es pequeño, la magnitud del vector es $\\Delta u_r \\approx 1 (\\Delta \\theta)$, en la dirección $\\boldsymbol{u}_{\\theta}$. Entonces $\\Delta \\boldsymbol{u}_r=\\Delta \\theta \\boldsymbol{u}_{\\theta}$, y\n",
    "\n",
    "$$\\boldsymbol{\\dot{u}}_r=\\lim \\limits_{\\Delta t \\to 0} \\frac{\\Delta \\boldsymbol{u}_r}{\\Delta t} = \\left( \\lim \\limits_{\\Delta t \\to 0} \\frac{\\Delta \\theta}{\\Delta t}\\right) \\boldsymbol{u}_{\\theta}\n",
    "$$\n",
    "\n",
    "<a id='Ec3_13'></a>\n",
    "\\begin{equation*}\n",
    "\\boldsymbol{\\dot{u}}_r=\\dot{\\theta}\\boldsymbol{u}_{\\theta}\n",
    "\\label{eq:Ec3_13} \\tag{3.13}\n",
    "\\end{equation*}\n",
    "\n",
    "Sustituyendo en la ecuación anterior, la velocidad se escribe a través de sus componentes como\n",
    "\n",
    "<a id='Ec3_14'></a>\n",
    "\\begin{equation*}\n",
    "\\boldsymbol{v}=v_r \\boldsymbol{u}_r+v_{\\theta}\\boldsymbol{u}_{\\theta}\n",
    "\\label{eq:Ec3_14} \\tag{3.14}\n",
    "\\end{equation*}\n",
    " \n",
    "donde\n",
    " \n",
    "<a id='Ec3_15'></a>\n",
    "\\begin{equation*}\n",
    "v_r=\\dot{r} \\\\\n",
    "v_{\\theta} = r\\dot{\\theta}\n",
    "\\label{eq:Ec3_15} \\tag{3.15}\n",
    "\\end{equation*}\n",
    "\n",
    "\n",
    "<p float=\"center\">\n",
    "  <img src=\"https://github.com/carlosalvarezh/Dinamica/blob/main/Figs/C03Fig13_PolarVelocidad.PNG\n",
    "?raw=true\" width=\"250\" />\n",
    "</p>\n",
    "\n",
    "<div style=\"text-align: right\"> Fuente: <a href=\"https://www.pearson.com/us/higher-education/product/Hibbeler-Engineering-Mechanics-Dynamics-14th-Edition/9780133915389.html\n",
    "\">Hibbeler R. Engineering Mechanics: Dynamics</a> </div>\n",
    "\n",
    "En la gráfica se observa la descomposición del vector velocidad en las componentes radial, $\\boldsymbol{v}_r$, que mide la tasa de incremento (decremento) de la longitud en la coordenada radial, o sea, $\\dot{r}$, y la componente transversal, $\\boldsymbol{v}_{\\theta}$, que es la tasa de movimiento a lo largo de una circunferencia de radio $r$. El término $\\dot{\\theta}=d\\theta / dt$ también se conoce como *velocidad angular*, ya que es la razón de cambio del ángulo $\\theta$ respecto al tiempo. Las unidades de la velocidad angular se dan en $rad/s$.\n",
    "\n",
    "Considerando que $\\boldsymbol{v}_r$ y $\\boldsymbol{v}_{\\theta}$ son perpendiculares, la magnitud de la velocidad estará dada por el valor positivo de:\n",
    "\n",
    "<a id='Ec3_16'></a>\n",
    "\\begin{equation*}\n",
    "v = \\sqrt{(\\dot{r})^2+(r\\dot{\\theta})^2}\n",
    "\\label{eq:Ec3_16} \\tag{3.16}\n",
    "\\end{equation*}\n",
    "\n",
    "donde la dirección de $\\boldsymbol{v}$ es tangente a la trayectoria."
   ]
  },
  {
   "cell_type": "markdown",
   "id": "6234e8e0",
   "metadata": {},
   "source": [
    "#### Aceleración"
   ]
  },
  {
   "cell_type": "markdown",
   "id": "865f8e46",
   "metadata": {},
   "source": [
    "La aceleración es la derivada de la velocidad respecto al tiempo. De las ecs. [(3.14)](#Ec3_14) y [(3.15)](#Ec3_15), se llega a la aceleración instantánea de la partícula.\n",
    "\n",
    "<a id='Ec3_17'></a>\n",
    "\\begin{equation*}\n",
    "\\boldsymbol{a}=\\boldsymbol{\\dot{v}}=\\ddot{r}\\boldsymbol{u}_r+\\dot{r}\\dot{\\boldsymbol{u}}_r+\\dot{r}\\dot{\\theta}\\boldsymbol{u}_{\\theta}+r\\ddot{\\theta}\\boldsymbol{u}_{\\theta}+r\\dot{\\theta}\\boldsymbol{\\dot{u}}_{\\theta}\n",
    "\\label{eq:Ec3_17} \\tag{3.17}\n",
    "\\end{equation*}\n",
    "\n",
    "De la anterior ecuación se requiere determinar el valor de $\\dot{\\boldsymbol{u}}_{\\theta}$, que es el cambio de la dirección $\\boldsymbol{u}_{\\theta}$ respecto al tiempo, con magnitud unitaria.\n",
    "\n",
    "<p float=\"center\">\n",
    "  <img src=\"https://github.com/carlosalvarezh/Dinamica/blob/main/Figs/C03Fig14_angulos.PNG\n",
    "?raw=true\" width=\"150\" />\n",
    "</p>\n",
    "\n",
    "<div style=\"text-align: right\"> Fuente: <a href=\"https://www.pearson.com/us/higher-education/product/Hibbeler-Engineering-Mechanics-Dynamics-14th-Edition/9780133915389.html\n",
    "\">Hibbeler R. Engineering Mechanics: Dynamics</a> </div>\n",
    "\n",
    "De la gráfica se tiene que en un tiempo $\\Delta t$, un cambio $\\Delta r$ no cambiará la dirección $\\boldsymbol{u}_{\\theta}$, sin embargo, un cambio $\\Delta \\theta$ hará que $\\boldsymbol{u}_{\\theta}$ pase a $\\boldsymbol{u}'_{\\theta}$, con $\\boldsymbol{u}'_{\\theta}=\\boldsymbol{u}_{\\theta}+\\Delta\\boldsymbol{u}_{\\theta}$. Para pequeñas variaciones del ángulo, la magnitud del vector es $\\Delta u_{\\theta}\\approx 1(\\Delta \\theta)$, actuando en la dirección $-\\boldsymbol{u}_r$, o sea, $\\Delta u_{\\theta}=-\\Delta \\theta\\boldsymbol{u}_r$, entonces\n",
    "\n",
    "$$\\boldsymbol{\\dot{u}}_{\\theta}=\\lim \\limits_{\\Delta t \\to 0} \\frac{\\Delta \\boldsymbol{u}_{\\theta}}{\\Delta t} = -\\left( \\lim \\limits_{\\Delta t \\to 0} \\frac{\\Delta \\theta}{\\Delta t}\\right) \\boldsymbol{u}_{r}\n",
    "$$\n",
    "\n",
    "<a id='Ec3_18'></a>\n",
    "\\begin{equation*}\n",
    "\\boldsymbol{\\dot{u}}_{\\theta}=-\\dot{\\theta}\\boldsymbol{u}_{r}\n",
    "\\label{eq:Ec3_18} \\tag{3.18}\n",
    "\\end{equation*}\n",
    "\n",
    "Sustituyendo el anterior resultado y la Ec. [(3.13)](#Ec3_13) en la ecuación para la aceleración, se escribe la aceleración en forma de componentes como \n",
    "\n",
    "<a id='Ec3_19'></a>\n",
    "\\begin{equation*}\n",
    "\\boldsymbol{a}=a_r\\boldsymbol{u}_{r}+a_{\\theta}\\boldsymbol{u}_{\\theta}\n",
    "\\label{eq:Ec3_19} \\tag{3.19}\n",
    "\\end{equation*}\n",
    "\n",
    "con \n",
    "\n",
    "<a id='Ec3_20'></a>\n",
    "\\begin{equation*}\n",
    "a_r=\\ddot{r}-r\\dot{\\theta}^2 \\\\\n",
    "a_{\\theta}=r\\ddot{\\theta}+2\\dot{r}\\dot{\\theta}\n",
    "\\label{eq:Ec3_20} \\tag{3.20}\n",
    "\\end{equation*}\n",
    "\n",
    "donde $\\ddot{\\theta}=d^2\\theta/dt^2=d/dt(d\\theta /dt)$ se conoce como *aceleración angular y sus unidades son $rad/s^2$*. $\\boldsymbol{a}_r$ y $\\boldsymbol{a}_{\\theta}$ son perpendiculares, entonces la magnitud d ela aceleración está dada por el valor positivo de\n",
    "\n",
    "<a id='Ec3_21'></a>\n",
    "\\begin{equation*}\n",
    "a=\\sqrt{(\\ddot{r}-r\\dot{\\theta}^2)^2+(r\\ddot{\\theta}+2\\dot{r}\\dot{\\theta})^2}\n",
    "\\label{eq:Ec3_21} \\tag{3.21}\n",
    "\\end{equation*}\n",
    "\n",
    "<p float=\"center\">\n",
    "  <img src=\"https://github.com/carlosalvarezh/Dinamica/blob/main/Figs/C03Fig15_aceleracionangular.PNG\n",
    "?raw=true\" width=\"250\" />\n",
    "</p>\n",
    "\n",
    "<div style=\"text-align: right\"> Fuente: <a href=\"https://www.pearson.com/us/higher-education/product/Hibbeler-Engineering-Mechanics-Dynamics-14th-Edition/9780133915389.html\n",
    "\">Hibbeler R. Engineering Mechanics: Dynamics</a> </div>"
   ]
  },
  {
   "cell_type": "markdown",
   "id": "d3263469",
   "metadata": {},
   "source": [
    "### Coordenadas cilíndricas"
   ]
  },
  {
   "cell_type": "markdown",
   "id": "8435b9a4",
   "metadata": {},
   "source": [
    "<p float=\"center\">\n",
    "  <img src=\"https://github.com/carlosalvarezh/Dinamica/blob/main/Figs/C03Fig16_cilindrica.PNG\n",
    "?raw=true\" width=\"250\" />\n",
    "</p>\n",
    "\n",
    "<div style=\"text-align: right\"> Fuente: <a href=\"https://www.pearson.com/us/higher-education/product/Hibbeler-Engineering-Mechanics-Dynamics-14th-Edition/9780133915389.html\n",
    "\">Hibbeler R. Engineering Mechanics: Dynamics</a> </div>\n",
    "\n",
    "Si la partícula se mueve a lo largo de una curva espacial, entonces su ubicación se especifica por medio de las tres coordenadas cilíndricas, $r$, $\\theta$, $z$. La coordenada $z$ es idéntica a la que se utilizó para coordenadas rectangulares. Como el vector unitario que define su dirección $\\boldsymbol{u}_z$, es constante, las derivadas con respecto al tiempo de este vector son cero, y por consiguiente la posición, velocidad y aceleración de la partícula se escriben en función de sus coordenadas cilíndricas como sigue:\n",
    "\n",
    "<a id='Ec3_22'></a>\n",
    "\\begin{equation*}\n",
    "\\begin{split}\n",
    "\\boldsymbol{r}_p &= r\\boldsymbol{u}_r+z\\boldsymbol{u}_z \\\\\n",
    "\\boldsymbol{v} &= \\dot{r}\\boldsymbol{u}_r+r\\dot{\\theta}\\boldsymbol{u}_{\\theta}+\\dot{z}\\boldsymbol{u}_{z} \\\\\n",
    "\\boldsymbol{a} &= (\\ddot{r}-r\\dot{\\theta}^2)\\boldsymbol{u}_r+(r\\ddot{\\theta}+2\\dot{r}\\dot{\\theta})\\boldsymbol{u}_{\\theta}+\\ddot{z}\\boldsymbol{u}_z\n",
    "\\end{split}\n",
    "\\label{eq:Ec3_22} \\tag{3.22}\n",
    "\\end{equation*}\n"
   ]
  },
  {
   "cell_type": "markdown",
   "id": "2b45b6a3",
   "metadata": {},
   "source": [
    "### Derivadas respecto al tiempo"
   ]
  },
  {
   "cell_type": "markdown",
   "id": "52a0398a",
   "metadata": {},
   "source": [
    "Las ecuaciones anteriores requieren que obtengamos las derivadas con respecto al tiempo $\\dot{r}$, $\\ddot{r}$, $\\dot{\\theta}$ y $\\ddot{\\theta}$, para evaluar las componentes $r$ y $\\theta$ de $\\boldsymbol{v}$ y $\\boldsymbol{a}. En general se presentan dos tipos de problema:\n",
    "\n",
    "1. Si las coordenadas polares se especifican como ecuaciones paramétricas en función del tiempo, $r = r(t)$ y $\\theta=\\theta(t)$, entonces las derivadas con respecto al tiempo pueden calcularse directamente.\n",
    "\n",
    "\n",
    "2. Si no se dan las ecuaciones paramétricas en función del tiempo, entonces debe conocerse la trayectoria $r=f(\\theta)$. Si utilizamos la regla de la cadena del cálculo podemos encontrar entonces la relación entre $\\dot{r}$ y $\\dot{\\theta}$ y entre $\\ddot{r}$ y $\\ddot{\\theta}$"
   ]
  },
  {
   "cell_type": "markdown",
   "id": "668ac940",
   "metadata": {},
   "source": [
    "### Ejemplos componentes cilíndricos"
   ]
  },
  {
   "cell_type": "markdown",
   "id": "a4698730",
   "metadata": {},
   "source": [
    "<table id=\"mytable\" border=0> \n",
    "<tr> \n",
    "<td rowspan=\"2\"> <img src=\"https://github.com/carlosalvarezh/Dinamica/blob/main/Figs/C03Fig17_Ej12_20.PNG\n",
    "?raw=true\" width=\"400\"/> \n",
    "</td>\n",
    "<td style=\"height:50%\">\n",
    "<div style=\"text-align: right\"> <b>Ejemplo 12.20:</b> <a href=\"https://www.pearson.com/us/higher-education/product/Hibbeler-Engineering-Mechanics-Dynamics-14th-Edition/9780133915389.html\n",
    "\">Hibbeler R. Engineering Mechanics: Dynamics</a> </div>\n",
    "\n",
    "<p>Debido a la rotación de la barra ahorquillada, la bola en la figura se mueve alrededor de una trayectoria ranurada, una parte de la cual tiene la forma de un <a href=\"https://en.wikipedia.org/wiki/Cardioid\">cardioide</a>, $r=0.5(1 - cos(\\theta)) pies$, donde $\\theta$ está en radianes. Si la velocidad de la bola es $v=4 pies/s$ y su aceleración es $a=30 pies/s^2$ en el instante $\\theta=180^{\\circ}$, determine la velocidad angular $\\dot{theta}$ y la aceleración angular $\\ddot{\\theta}$ de la horquilla.</p>\n",
    "</td>\n",
    "</tr>\n",
    "</table>\n",
    "\n",
    "- ***Sistema de coordenadas:***\n",
    "Esta trayectoria es muy rara, y matemáticamente se expresa mejor por medio de coordenadas polares, como se hace aquí, en lugar de coordenadas rectangulares. También, como $\\dot{theta}$ y $\\ddot{\\theta}$ deben determinarse, entonces las coordenadas $r$, $\\theta$ no son una opción obvia.\n",
    "\n",
    "- ***Velocidad y aceleración:***\n",
    "\n",
    "Empleando la regla de la cadena para determinar las derivadas de $r$ y $\\theta$:\n",
    "\n",
    "\\begin{equation*}\n",
    "\\begin{split}\n",
    "r&=0.5(1-\\cos\\theta) \\\\\n",
    "\\dot{r}&=0.5(\\sin\\theta)\\dot{\\theta}\\\\\n",
    "\\ddot{r}&=0.5(\\cos\\theta)\\dot{\\theta}(\\dot{\\theta})+0.5(\\sin\\theta)\\ddot{\\theta}\n",
    "\\end{split}\n",
    "\\end{equation*}\n",
    "\n",
    "evaluando cuando $\\theta=180^{\\circ}$, se tiene\n",
    "\n",
    "$$r=1 pie \\quad\\quad \\dot{r}=0\\quad\\quad\\ddot{r}=-0.5\\dot{\\theta}^2$$\n",
    "\n",
    "como $v=4 pie/s$, utilizando la ecuación [(3.16)](#Ec3_16) para determinar $\\dot{\\theta}$ se tiene\n",
    "\n",
    "\\begin{equation*}\n",
    "\\begin{split}\n",
    "v&=\\sqrt{(\\dot{r})^2+(r\\dot{\\theta})^2} \\\\\n",
    "4&=\\sqrt{(0)^2+(1\\dot{\\theta})^2}\\\\\n",
    "\\dot{\\theta}&=4rad/s \n",
    "\\end{split}\n",
    "\\end{equation*}\n",
    "\n",
    "Ahora calculando $\\ddot{\\theta}$, empleando la ecuacion [3.21](#Ec3_21)\n",
    "\n",
    "\\begin{equation*}\n",
    "\\begin{split}\n",
    "a&=\\sqrt{(\\ddot{r}-r\\dot{\\theta}^2)^2+(r\\ddot{\\theta}+2\\dot{r}\\dot{\\theta})^2} \\\\\n",
    "30&=\\sqrt{[-0.5(4)^2-1(4)^2]^2+[1\\ddot{\\theta}+2(0)(4)]^2}\\\\\n",
    "(30)^2&=(-24)^2+\\ddot{\\theta}^2 \\\\\n",
    "\\ddot{\\theta}&=18rad/s^2\n",
    "\\end{split}\n",
    "\\end{equation*}\n",
    "\n",
    "- ***Solución computacional:***"
   ]
  },
  {
   "cell_type": "code",
   "execution_count": null,
   "id": "70dce719",
   "metadata": {},
   "outputs": [],
   "source": [
    "import numpy as np\n",
    "import matplotlib.pyplot as plt\n",
    "from sympy import *\n",
    "from sympy.physics.mechanics import dynamicsymbols, init_vprinting\n",
    "\n",
    "theta = dynamicsymbols(r'\\theta')\n",
    "t = Symbol('t')\n",
    "\n",
    "init_vprinting()"
   ]
  },
  {
   "cell_type": "markdown",
   "id": "4d9cb6d6",
   "metadata": {},
   "source": [
    "Graficando primero la funcion cardioide"
   ]
  },
  {
   "cell_type": "code",
   "execution_count": null,
   "id": "4a5b04a1",
   "metadata": {},
   "outputs": [],
   "source": [
    "phi = np.linspace(0, 2*np.pi, 1000)\n",
    "\n",
    "r = 0.5 * (1 - np.cos(phi))\n",
    "plt.polar(phi, r, 'r')\n",
    "plt.show()\n"
   ]
  },
  {
   "cell_type": "markdown",
   "id": "9bc7378c",
   "metadata": {},
   "source": [
    "Ahora obtenemos los valores de $\\dot{r}$ y $\\ddot{r}$"
   ]
  },
  {
   "cell_type": "code",
   "execution_count": null,
   "id": "46e5ef2e",
   "metadata": {},
   "outputs": [],
   "source": [
    "r = 0.5 * (1 - cos(theta))\n",
    "rdot = diff(r, t)\n",
    "rdot"
   ]
  },
  {
   "cell_type": "code",
   "execution_count": null,
   "id": "719c2996",
   "metadata": {},
   "outputs": [],
   "source": [
    "rddot = diff(rdot, t)\n",
    "rddot"
   ]
  },
  {
   "cell_type": "markdown",
   "id": "324134c2",
   "metadata": {},
   "source": [
    "Evaluando los anteriores resultados cuando $\\theta=180^{\\circ}$"
   ]
  },
  {
   "cell_type": "code",
   "execution_count": null,
   "id": "91b41f2e",
   "metadata": {},
   "outputs": [],
   "source": [
    "rN = r.subs(theta, 180 * pi / 180)\n",
    "rN"
   ]
  },
  {
   "cell_type": "code",
   "execution_count": null,
   "id": "b03e73a8",
   "metadata": {},
   "outputs": [],
   "source": [
    "rdotN = rdot.subs(theta, 180 * pi / 180)\n",
    "rdotN"
   ]
  },
  {
   "cell_type": "code",
   "execution_count": null,
   "id": "69743485",
   "metadata": {},
   "outputs": [],
   "source": [
    "rddotN = rddot.subs(theta, 180 * pi / 180)\n",
    "rddotN"
   ]
  },
  {
   "cell_type": "markdown",
   "id": "0114a2fc",
   "metadata": {},
   "source": [
    "Ahora vamos a determinar el valor numérico para $\\dot{\\theta}$, cuando $v=4pie/s$"
   ]
  },
  {
   "cell_type": "code",
   "execution_count": null,
   "id": "78567380",
   "metadata": {},
   "outputs": [],
   "source": [
    "thetadot = N(Eq(4, sqrt(rdotN**2 + (rN * theta)**2)))\n",
    "thetadot"
   ]
  },
  {
   "cell_type": "code",
   "execution_count": null,
   "id": "76b7b48a",
   "metadata": {},
   "outputs": [],
   "source": [
    "thetadot = solve(thetadot,theta)\n",
    "thetadot"
   ]
  }
 ],
 "metadata": {
  "kernelspec": {
   "display_name": "Python 3",
   "language": "python",
   "name": "python3"
  },
  "language_info": {
   "codemirror_mode": {
    "name": "ipython",
    "version": 3
   },
   "file_extension": ".py",
   "mimetype": "text/x-python",
   "name": "python",
   "nbconvert_exporter": "python",
   "pygments_lexer": "ipython3",
   "version": "3.6.13"
  },
  "toc": {
   "base_numbering": 1,
   "nav_menu": {},
   "number_sections": true,
   "sideBar": true,
   "skip_h1_title": true,
   "title_cell": "Tabla de Contenidos",
   "title_sidebar": "Contenidos",
   "toc_cell": true,
   "toc_position": {
    "height": "calc(100% - 180px)",
    "left": "10px",
    "top": "150px",
    "width": "165px"
   },
   "toc_section_display": true,
   "toc_window_display": true
  }
 },
 "nbformat": 4,
 "nbformat_minor": 5
}
