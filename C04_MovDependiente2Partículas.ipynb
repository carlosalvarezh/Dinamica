{
 "cells": [
  {
   "cell_type": "markdown",
   "id": "a036f99a",
   "metadata": {},
   "source": [
    "<h1 align=\"center\">Dinámica</h1>\n",
    "<h1 align=\"center\">Capítulo 4: Movimiento dependiente de dos partículas</h1>\n",
    "<h1 align=\"center\">2021/02</h1>\n",
    "<h1 align=\"center\">MEDELLÍN - COLOMBIA </h1>"
   ]
  },
  {
   "cell_type": "markdown",
   "id": "2c2a64b7",
   "metadata": {},
   "source": [
    "<table>\n",
    " <tr align=left><td><img align=left src=\"https://github.com/carlosalvarezh/Dinamica/blob/main/Figs/CC-BY.png?raw=true\">\n",
    " <td>Text provided under a Creative Commons Attribution license, CC-BY. All code is made available under the FSF-approved MIT license.(c) Carlos Alberto Alvarez Henao</td>\n",
    "</table> "
   ]
  },
  {
   "cell_type": "markdown",
   "id": "6007f8c8",
   "metadata": {},
   "source": [
    "*** \n",
    "\n",
    "***Docente:*** Carlos Alberto Álvarez Henao, I.C. D.Sc.\n",
    "\n",
    "***e-mail:*** carlosalvarezh@gmail.com\n",
    "\n",
    "***skype:*** carlos.alberto.alvarez.henao\n",
    "\n",
    "***Linkedin:*** https://www.linkedin.com/in/carlosalvarez5/\n",
    "\n",
    "***github:*** https://github.com/carlosalvarezh/Dinamica\n",
    "\n",
    "***Herramienta:*** [Jupyter](http://jupyter.org/)\n",
    "\n",
    "***Kernel:*** Python 3.9\n",
    "\n",
    "\n",
    "***"
   ]
  },
  {
   "cell_type": "markdown",
   "id": "1bc19001",
   "metadata": {
    "toc": true
   },
   "source": [
    "<h1>Tabla de Contenidos<span class=\"tocSkip\"></span></h1>\n",
    "<div class=\"toc\"><ul class=\"toc-item\"><li><span><a href=\"#Movimiento-dependiente\" data-toc-modified-id=\"Movimiento-dependiente-1\"><span class=\"toc-item-num\">1&nbsp;&nbsp;</span>Movimiento dependiente</a></span><ul class=\"toc-item\"><li><span><a href=\"#Ejemplo-4.0\" data-toc-modified-id=\"Ejemplo-4.0-1.1\"><span class=\"toc-item-num\">1.1&nbsp;&nbsp;</span>Ejemplo 4.0</a></span></li><li><span><a href=\"#Ejemplo-12.24\" data-toc-modified-id=\"Ejemplo-12.24-1.2\"><span class=\"toc-item-num\">1.2&nbsp;&nbsp;</span>Ejemplo 12.24</a></span></li></ul></li><li><span><a href=\"#Movimiento-relativo-de-dos-partículas-en-ejes-trasladantes\" data-toc-modified-id=\"Movimiento-relativo-de-dos-partículas-en-ejes-trasladantes-2\"><span class=\"toc-item-num\">2&nbsp;&nbsp;</span>Movimiento relativo de dos partículas en ejes trasladantes</a></span><ul class=\"toc-item\"><li><span><a href=\"#Introducción\" data-toc-modified-id=\"Introducción-2.1\"><span class=\"toc-item-num\">2.1&nbsp;&nbsp;</span>Introducción</a></span></li><li><span><a href=\"#Posición\" data-toc-modified-id=\"Posición-2.2\"><span class=\"toc-item-num\">2.2&nbsp;&nbsp;</span>Posición</a></span></li><li><span><a href=\"#Velocidad\" data-toc-modified-id=\"Velocidad-2.3\"><span class=\"toc-item-num\">2.3&nbsp;&nbsp;</span>Velocidad</a></span></li><li><span><a href=\"#Aceleración\" data-toc-modified-id=\"Aceleración-2.4\"><span class=\"toc-item-num\">2.4&nbsp;&nbsp;</span>Aceleración</a></span></li><li><span><a href=\"#Procedimiento-de-análisis\" data-toc-modified-id=\"Procedimiento-de-análisis-2.5\"><span class=\"toc-item-num\">2.5&nbsp;&nbsp;</span>Procedimiento de análisis</a></span></li><li><span><a href=\"#Ejemplo-12.27\" data-toc-modified-id=\"Ejemplo-12.27-2.6\"><span class=\"toc-item-num\">2.6&nbsp;&nbsp;</span>Ejemplo 12.27</a></span></li></ul></li></ul></div>"
   ]
  },
  {
   "cell_type": "markdown",
   "id": "38405058",
   "metadata": {},
   "source": [
    "## Movimiento dependiente"
   ]
  },
  {
   "cell_type": "markdown",
   "id": "d508be3b",
   "metadata": {},
   "source": [
    "Se tiene un tipo de problema en donde el movimiento de una partícula dependerá del movimiento de otra partícula. Esto sucede cuando se tienen dos partículas sujetas por cuerdas (inelásticas), sujetadas por poleas (ej. el sistema de desplazamiento de un ascensor). \n",
    "\n",
    "<p float=\"center\">\n",
    "  <img src=\"https://github.com/carlosalvarezh/Dinamica/blob/main/Figs/C04Fig01_Pulley.PNG?raw=true\" width=\"350\" />\n",
    "</p>\n",
    "\n",
    "<div style=\"text-align: right\"> Fuente: <a href=\"https://www.pearson.com/us/higher-education/product/Hibbeler-Engineering-Mechanics-Dynamics-14th-Edition/9780133915389.html\n",
    "\">Hibbeler R. Engineering Mechanics: Dynamics</a> </div>\n",
    "\n",
    "\n",
    "En la figura se muestra el movimiento de un bloque $A$ hacia abajo del plano inclinado provocando un movimiento correspondiente del bloque $B$ hacia arriba del otro plano inclinado. Primero se especifica la ubicación de los bloques por medio de coordenadas de posición $s_A$ y $s_B$. Los ejes coordenados están medidos a partir de un punto fijo ($O$) o de una línea de referencia fija; están medidos a lo largo de cada plano inclinado en la dirección del movimiento de cada bloque y tienen un sentido positivo de $C$ a $A$ y de $D$ a $B$. Si la longitud total de la cuerda es $l_T$, las dos coordenadas de posición están relacionadas por la ecuación.\n",
    "\n",
    "<a id='Ec4_1'></a>\n",
    "\\begin{equation*}\n",
    "s_A + l_{CD}+s_B=l_T\n",
    "\\label{eq:Ec4_1} \\tag{4.1}\n",
    "\\end{equation*}\n",
    "\n",
    "En este caso, $l_{CD}$ es la longitud de la cuerda que pasa sobre el arco $CD$. Si tomamos la derivada con respecto al tiempo de esta expresión, y tenemos en cuenta que $l_{CD}$ y $l_T$ permanecen constantes, en tanto que $s_A$ y $s_B$ miden los segmentos de la cuerda que cambian de longitud, tenemos\n",
    "\n",
    "<a id='Ec4_2'></a>\n",
    "\\begin{equation*}\n",
    "\\frac{ds_A}{dt}+\\frac{ds_B}{dt}=0 \\quad\\quad \\text{o}\\quad\\quad v_B = -v_A\n",
    "\\label{eq:Ec4_2} \\tag{4.2}\n",
    "\\end{equation*}\n",
    "\n",
    "El signo negativo indica que cuando el bloque $A$ tiene una velocidad dirigida hacia abajo, es decir, en la dirección de $s_A$ positiva, provoca una velocidad hacia arriba correspondiente del bloque $B$, es decir, $B$ se mueve en la dirección $s_B$ negativa. \n",
    "\n",
    "Del mismo modo, la diferenciación con respecto al tiempo de las velocidades tiene como resultado la relación entre las aceleraciones, es decir,\n",
    "\n",
    "<a id='Ec4_3'></a>\n",
    "\\begin{equation*}\n",
    "\\frac{dv_A}{dt}+\\frac{dv_B}{dt}=0 \\quad\\quad \\text{o}\\quad\\quad a_B = -a_A\n",
    "\\label{eq:Ec4_3} \\tag{4.3}\n",
    "\\end{equation*}\n"
   ]
  },
  {
   "cell_type": "markdown",
   "id": "5202f2c2",
   "metadata": {},
   "source": [
    "### Ejemplo 4.0"
   ]
  },
  {
   "cell_type": "markdown",
   "id": "1384cac6",
   "metadata": {},
   "source": [
    "<table id=\"mytable\" border=0> \n",
    "<tr> \n",
    "<td rowspan=\"2\"> <img src=\"https://github.com/carlosalvarezh/Dinamica/blob/main/Figs/C04Fig02_Ejemplo0.PNG?raw=true\" width=\"500\"/> \n",
    "</td>\n",
    "<td style=\"height:50%\">\n",
    "<div style=\"text-align: right\"> <b>Ejemplo:</b> <a href=\"https://www.pearson.com/us/higher-education/product/Hibbeler-Engineering-Mechanics-Dynamics-14th-Edition/9780133915389.html\n",
    "\">Hibbeler R. Engineering Mechanics: Dynamics</a> </div>\n",
    "\n",
    "<p>En la figura se muestra un ejemplo más complicado. En este caso, $s_A$ especifica la posición del bloque $A$ y $s_B$ define la posición del extremo de la cuerda del cual el bloque $B$ está suspendido. Como previamente, elegimos coordenadas de posición $(1)$ con su origen en puntos fijos o líneas de referencia $(2)$ medidas en la dirección del movimiento de cada bloque y $(3)$ positivas a la derecha para $s_A$ y positivas hacia abajo para $s_B$.</p>\n",
    "</td>\n",
    "</tr>\n",
    "</table>\n",
    "    \n",
    "Durante el movimiento, la longitud de los segmentos de color azul de la cuerda permanece constante. Si $l$ representa la longitud total de la cuerda menos estos segmentos, entonces las coordenadas de posición pueden relacionarse por medio de la ecuación.\n",
    " \n",
    "<a id='Ec4_4'></a>\n",
    "\\begin{equation*}\n",
    "2s_B+h+s_A=l\n",
    "\\label{eq:Ec4_4} \\tag{4.4}\n",
    "\\end{equation*}\n",
    "\n",
    "Como $l$ y $h$ permanecen constantes durante el movimiento, las dos derivadas con respecto al tiempo resultan\n",
    "\n",
    "<a id='Ec4_5'></a>\n",
    "\\begin{equation*}\n",
    "2v_B=-v_A \\quad\\quad 2a_B=-a_A\n",
    "\\label{eq:Ec4_5} \\tag{4.5}\n",
    "\\end{equation*}\n",
    "\n",
    "Por consiguiente, cuando $B$ se mueve hacia abajo ($+s_B$), $A$ lo hace a la izquierda ($-s_A$) con dos veces el movimiento    \n"
   ]
  },
  {
   "cell_type": "markdown",
   "id": "07a7b2e2",
   "metadata": {},
   "source": [
    "### Ejemplo 12.24"
   ]
  },
  {
   "cell_type": "markdown",
   "id": "24a0550d",
   "metadata": {},
   "source": [
    "<table id=\"mytable\" border=0> \n",
    "<tr> \n",
    "<td rowspan=\"2\"> <img src=\"https://github.com/carlosalvarezh/Dinamica/blob/main/Figs/C04Fig03_Ejemplo12_24.PNG?raw=true\" width=\"400\"/> \n",
    "</td>\n",
    "<td style=\"height:50%\">\n",
    "<div style=\"text-align: right\"> <b>Ejemplo 12.24:</b> <a href=\"https://www.pearson.com/us/higher-education/product/Hibbeler-Engineering-Mechanics-Dynamics-14th-Edition/9780133915389.html\n",
    "\">Hibbeler R. Engineering Mechanics: Dynamics</a> </div>\n",
    "\n",
    "<p>Un hombre parado en $A$ iza una caja fuerte $S$ como se muestra en la figura al caminar hacia la derecha con una velocidad constante $v_A=0.5 m/s$. Determine la velocidad y aceleración de la caja fuerte cuando alcance la altura de $10 m$. La cuerda de $30 m$ de largo pasa sobre una pequeña polea en $D$.</p>\n",
    "</td>\n",
    "</tr>\n",
    "</table>\n",
    "\n",
    "- ***Ecuación de coordenadas de posición.*** \n",
    "\n",
    "Este problema difiere de los ejemplos anteriores puesto que el segmento de cuerda $DA$ cambia tanto de dirección como de magnitud. Sin embargo, los extremos de la cuerda que definen las posiciones de $S$ y $A$, se especifican por medio de las coordenadas $x$ y $y$ puesto que están medidas con respecto a un punto fijo y dirigidas a lo largo de las trayectorias del movimiento de los extremos de la cuerda. Las coordenadas $x$ y $y$ pueden relacionarse puesto que la cuerda tiene una longitud fija $l=30 m$, la cual en todo momento es igual a la longitud del segmento $DA$ más $CD$. Mediante el teorema de Pitágoras para determinar $l_{DA}$, tenemos $l_{DA}=\\sqrt{(15)^2+x^2}$; también, $l_{CD}= 15 - y$. Por consiguiente,\n",
    "\n",
    "$$\n",
    "\\begin{align*}\n",
    "l &= l_{DA}+l_{DC} \\\\\n",
    "30 &= \\sqrt{(15)^2+x^2}+(15-y) \\\\\n",
    "y &= \\sqrt{225+x^2}-15\n",
    "\\end{align*}\n",
    "$$\n",
    "\n",
    "Cuando $y=10m$, se reemplaza en la anterior ecuación y se obtiene el valor de $x=20m.$\n",
    "\n",
    "- ***Derivadas con respecto al tiempo.***\n",
    "\n",
    "Con la derivada con respecto al tiempo y la regla de la cadena, donde $v_S = dy/dt$ y $v_A= dx/dt$, se obtiene\n",
    "\n",
    "$$\n",
    "\\begin{align*}\n",
    "v_s &=\\frac{dy}{dt}=\\left[ \\frac{1}{2}\\frac{2x}{\\sqrt{225+x^2}}\\right] \\frac{dx}{dt} \\\\\n",
    "&= \\frac{x}{\\sqrt{225+x^2}}v_A\n",
    "\\end{align*}\n",
    "$$\n",
    "\n",
    "Reemplazando los valores de $x=20m$ y $v_A=0.5m/s$, se llega a $v_s=0.4m/s$.\n",
    "\n",
    "Por último, derivando la ecuación anterior respecto al tiempo se obtendrá la aceleración. Como $v_A$ es constante, entonces $a_A=0$, y se tiene\n",
    "\n",
    "$$\n",
    "\\begin{align*}\n",
    "a_s &= \\frac{d^2y}{dt^2} \\\\\n",
    "&= \\left[\\frac{-x(dx/dt)}{(225+x^2)^{3/2}}\\right]xv_A+\\left[ \\frac{1}{\\sqrt{225+x^2}}\\right]\\left(\\frac{dx}{dt}\\right)v_a+\\left[ \\frac{1}{\\sqrt{225+x^2}}\\right]x\\frac{dv_A}{dt} \\\\\n",
    "&= \\frac{225v_A^2}{(225+x^2)^{3/2}} \\\\\n",
    "&= \\frac{225(0.5m/s)^2}{[225+(20m)^2]^{3/2}} \\\\\n",
    "&= 0.00360 m/s^2 \\\\\n",
    "&= 3.60 mm/s^2\n",
    "\\end{align*}\n",
    "$$\n"
   ]
  },
  {
   "cell_type": "markdown",
   "id": "3d51410a",
   "metadata": {},
   "source": [
    "## Movimiento relativo de dos partículas en ejes trasladantes"
   ]
  },
  {
   "cell_type": "markdown",
   "id": "0986922f",
   "metadata": {},
   "source": [
    "### Introducción"
   ]
  },
  {
   "cell_type": "markdown",
   "id": "b14cbb85",
   "metadata": {},
   "source": [
    "Hasta ahora en el curso, el movimiento absoluto de una partícula se ha determinado por medio de un marco de referencia fijo. Existen muchos casos, sin embargo, en los que la trayectoria del movimiento de una partícula es más complejo, de modo que puede ser más fácil analizar el movimiento en partes por medio de dos o más marcos de referencia. Por ejemplo, el movimiento de una partícula localizada en la punta de la hélice de un avión, mientras éste está en vuelo, se describe mejor si primero se observa el movimiento del avión desde una referencia fija y luego se superpone (vectorialmente) el movimiento circular de la partícula medido con respecto a una referencia fija al avión."
   ]
  },
  {
   "cell_type": "markdown",
   "id": "020a565c",
   "metadata": {},
   "source": [
    "### Posición"
   ]
  },
  {
   "cell_type": "markdown",
   "id": "a29bb1b3",
   "metadata": {},
   "source": [
    "<p float=\"center\">\n",
    "  <img src=\"https://github.com/carlosalvarezh/Dinamica/blob/main/Figs/C04Fig04_EjeTrasladante.PNG?raw=true\" width=\"250\" />\n",
    "</p>\n",
    "\n",
    "<div style=\"text-align: right\"> Fuente: <a href=\"https://www.pearson.com/us/higher-education/product/Hibbeler-Engineering-Mechanics-Dynamics-14th-Edition/9780133915389.html\n",
    "\">Hibbeler R. Engineering Mechanics: Dynamics</a> </div>\n",
    "\n",
    "Considere las partículas $A$ y $B$, las cuales se desplazan a lo largo de las trayectorias arbitrarias de la figura. La posición absoluta de cada partícula, $\\boldsymbol{r}_A$ y $\\boldsymbol{r}_B$ está medida con respecto al origen común $O$ del marco de referencia fijo $x$, $y$, $z$. El origen de un segundo marco de referencia $x'$, $y'$, $z'$ se fija a $y$ se mueve con la partícula $A$. Se permite que los ejes de este marco se trasladen sólo con respecto al marco fijo. El vector de posición relativa $\\boldsymbol{r}_{B/A}$ denota la posición de $B$ medida con respecto a $A$. Por medio de la adición vectorial, los tres vectores mostrados en la figura pueden relacionarse mediante la ecuación.\n",
    "\n",
    "<a id='Ec4_6'></a>\n",
    "\\begin{equation*}\n",
    "\\boldsymbol{r}_B=\\boldsymbol{r}_A+\\boldsymbol{r}_{B/A}\n",
    "\\label{eq:Ec4_6} \\tag{4.6}\n",
    "\\end{equation*}"
   ]
  },
  {
   "cell_type": "markdown",
   "id": "5e0b257f",
   "metadata": {},
   "source": [
    "### Velocidad"
   ]
  },
  {
   "cell_type": "markdown",
   "id": "f2648e69",
   "metadata": {},
   "source": [
    "Si se toman las derivadas con respecto al tiempo de la ecuación anterior, se determina una ecuación que relaciona las velocidades de las partículas; es decir,\n",
    "\n",
    "<a id='Ec4_7'></a>\n",
    "\\begin{equation*}\n",
    "\\boldsymbol{v}_B=\\boldsymbol{v}_A+\\boldsymbol{v}_{B/A}\n",
    "\\label{eq:Ec4_7} \\tag{4.7}\n",
    "\\end{equation*}\n",
    "\n",
    "Donde $\\boldsymbol{v}_B= d\\boldsymbol{r}_B/dt$ y $\\boldsymbol{v}_A = d\\boldsymbol{r}_A/dt$ se refieren a velocidades absolutas, puesto que se observan desde el marco fijo; en tanto que la velocidad relativa $\\boldsymbol{v}_{B/A} = d\\boldsymbol{r}_{B/A}/dt$ se observa desde el marco trasladante. Es importante señalar que puesto que los ejes $x'$, $y'$, $z'$ se trasladan, los componentes de $r_{B/A}$ no cambiarán de dirección y por consiguiente la derivada con respecto al tiempo de estos componentes sólo tendrán que responder del cambio de sus magnitudes. La ecuación [(4.7)](#Ec4_7) establece, por consiguiente, que la velocidad de $B$ es igual a la velocidad de $A$ más (vectorialmente) la velocidad de *“$B$ con respecto a $A$”*, medida por el observador trasladante fijo en el marco de referencia $x'$, $y'$, $z'$."
   ]
  },
  {
   "cell_type": "markdown",
   "id": "beaba8c3",
   "metadata": {},
   "source": [
    "### Aceleración"
   ]
  },
  {
   "cell_type": "markdown",
   "id": "3e56c730",
   "metadata": {},
   "source": [
    "La derivada con respecto al tiempo de la ecuación [(4.7)](#Ec4_7) proporciona una relación vectorial similar entre las aceleraciones absoluta y relativa de las partículas $A$ y $B$.\n",
    "\n",
    "<a id='Ec4_8'></a>\n",
    "\\begin{equation*}\n",
    "\\boldsymbol{a}_B=\\boldsymbol{a}_A+\\boldsymbol{a}_{B/A}\n",
    "\\label{eq:Ec4_8} \\tag{4.8}\n",
    "\\end{equation*}\n",
    "\n",
    "donde $\\boldsymbol{a}_{B/A}$ es la aceleración de $B$ vista por el observador localizado en $A$ y que se traslada con el marco de referencia $x'$, $y'$, $z'$."
   ]
  },
  {
   "cell_type": "markdown",
   "id": "9cf2156c",
   "metadata": {},
   "source": [
    "### Procedimiento de análisis"
   ]
  },
  {
   "cell_type": "markdown",
   "id": "bae7b3e2",
   "metadata": {},
   "source": [
    "- Cuando se aplican las ecuaciones de velocidad y aceleración relativas, primero se tiene que especificar la partícula $A$ que es el origen de los ejes $x'$, $y'$, $z'$ trasladantes. Por lo común, este punto tiene una velocidad o aceleración conocida.\n",
    "\n",
    "\n",
    "- Como la adición vectorial forma un triángulo, cuando mucho puede haber dos incógnitas representadas por las magnitudes y/o direcciones de las cantidades vectoriales.\n",
    "\n",
    "\n",
    "- Estas incógnitas se pueden resolver gráficamente por medio de trigonometría (ley de los senos, ley de los cosenos), o al descomponer cada uno de los tres vectores en componentes rectangulares o cartesianos, con lo cual se genera un sistema de ecuaciones escalares."
   ]
  },
  {
   "cell_type": "markdown",
   "id": "7df931b6",
   "metadata": {},
   "source": [
    "### Ejemplo 12.27"
   ]
  },
  {
   "cell_type": "markdown",
   "id": "96d59004",
   "metadata": {},
   "source": [
    "<table id=\"mytable\" border=0> \n",
    "<tr> \n",
    "<td rowspan=\"2\"> <img src=\"https://github.com/carlosalvarezh/Dinamica/blob/main/Figs/C04Fig05_Ejemplo12_27.PNG?raw=true\" width=\"400\"/> \n",
    "</td>\n",
    "<td style=\"height:50%\">\n",
    "<div style=\"text-align: right\"> <b>Ejemplo 12.24:</b> <a href=\"https://www.pearson.com/us/higher-education/product/Hibbeler-Engineering-Mechanics-Dynamics-14th-Edition/9780133915389.html\n",
    "\">Hibbeler R. Engineering Mechanics: Dynamics</a> </div>\n",
    "<p>En el instante que se muestra en la figura, los automóviles $A$ y $B$ viajan con una rapidez de $18 m/s$ y $12 m/s$, respectivamente. Asimismo, en este instante, $A$ experimenta una desaceleración de $2 m/s^2$ y $B$ tiene una aceleración de $3 ms^2$. Determine la velocidad y aceleración de $B$ con respecto a $A$.</p>\n",
    "</td>\n",
    "</tr>\n",
    "</table>\n",
    "\n",
    "- ***Velocidad:***\n",
    "\n",
    "Los ejes $x$, $y$ fijos se establecen en un punto arbitrario en el suelo, y los ejes $x'$, $y'$ trasladantes se fijan al carro $A$. ¿Por qué? La velocidad relativa se determina con $\\boldsymbol{v_B} = \\boldsymbol{v_A} + \\boldsymbol{v_{B/A}}$. ¿Cuáles son las dos incógnitas? Si utilizamos un análisis vectorial cartesiano, tenemos\n",
    "\n",
    "\n",
    "$$\n",
    "\\begin{align*}\n",
    "\\boldsymbol{v_B} &= \\boldsymbol{v_A} + \\boldsymbol{v_{B/A}}\\\\\n",
    "-12\\boldsymbol{j} &= -18\\cos(60^{\\circ})\\boldsymbol{i}-18\\sin(60^{\\circ})\\boldsymbol{j} + \\boldsymbol{v_{B/A}}\\\\\n",
    "\\boldsymbol{v_{B/A}} &= \\{9\\boldsymbol{i}+3.588\\boldsymbol{j}\\} m/s\n",
    "\\end{align*}\n",
    "$$\n",
    "\n",
    "entonces\n",
    "\n",
    "$$\\boldsymbol{v_{B/A}}=\\sqrt{(9)^2+(3.588)^2}=9.69 m/s$$\n",
    "\n",
    "\n",
    "La dirección de la velocidad, estará dada por (de la figura)\n",
    "<p float=\"center\">\n",
    "  <img src=\"https://github.com/carlosalvarezh/Dinamica/blob/main/Figs/C04Fig05_Ejemplo12_27b.PNG?raw=true\" width=\"150\" />\n",
    "</p>\n",
    "\n",
    "<div style=\"text-align: right\"> Fuente: <a href=\"https://www.pearson.com/us/higher-education/product/Hibbeler-Engineering-Mechanics-Dynamics-14th-Edition/9780133915389.html\n",
    "\">Hibbeler R. Engineering Mechanics: Dynamics</a> </div>\n",
    "\n",
    "$$\\theta=\\tan^{-1} \\left( \\frac{(\\boldsymbol{v_{B/A}})_y}{(\\boldsymbol{v_{B/A}})_x} \\right) =\\tan^{-1} \\left(\\frac{3.588}{9} \\right)=21.7^{\\circ}$$\n",
    "\n",
    "\n",
    "- ***Aceleración:***\n",
    "\n",
    "El automóvil $B$ tiene componentes tanto tangenciales como normales de aceleración. ¿Por qué? La magnitud de la componente normal es\n",
    "\n",
    "$$(a_B)_n=\\frac{v^2_B}{\\rho}=\\frac{(12 m/s)^2}{100m}=1,44m/s^2$$\n",
    "\n",
    "Al aplicar la ecuación de la aceleración relativa se obtiene\n",
    "\n",
    "$$\\boldsymbol{a}_B=\\boldsymbol{a}_A+\\boldsymbol{a}_{B/A}$$\n",
    "$$(-1,44\\boldsymbol{i}-3\\boldsymbol{j})=(2\\cos(60^{\\circ})\\boldsymbol{i}+2\\sin(60^{\\circ})\\boldsymbol{j})+\\boldsymbol{a}_{B/A}$$\n",
    "$$\\boldsymbol{a_{B/A}} = \\{-2.44\\boldsymbol{i}-4.73\\boldsymbol{j}\\} m/s^2$$\n",
    "\n",
    "la dirección de la aceleración estará dada por (ver figura)\n",
    "<p float=\"center\">\n",
    "  <img src=\"https://github.com/carlosalvarezh/Dinamica/blob/main/Figs/C04Fig05_Ejemplo12_27c.PNG?raw=true\" width=\"150\" />\n",
    "</p>\n",
    "\n",
    "<div style=\"text-align: right\"> Fuente: <a href=\"https://www.pearson.com/us/higher-education/product/Hibbeler-Engineering-Mechanics-Dynamics-14th-Edition/9780133915389.html\n",
    "\">Hibbeler R. Engineering Mechanics: Dynamics</a> </div>\n",
    "\n",
    "$$\\boldsymbol{a_{B/A}}=\\sqrt{(2.44)^2+(4.732)^2}=5.32 m/s$$\n",
    "\n",
    "$$\\phi=\\tan^{-1} \\left( \\frac{(\\boldsymbol{a_{B/A}})_y}{(\\boldsymbol{a_{B/A}})_x} \\right) =\\tan^{-1} \\left(\\frac{4.73}{2.44} \\right)=62.7^{\\circ}$$\n"
   ]
  },
  {
   "cell_type": "code",
   "execution_count": null,
   "id": "0e1694aa",
   "metadata": {},
   "outputs": [],
   "source": []
  }
 ],
 "metadata": {
  "kernelspec": {
   "display_name": "Python 3",
   "language": "python",
   "name": "python3"
  },
  "language_info": {
   "codemirror_mode": {
    "name": "ipython",
    "version": 3
   },
   "file_extension": ".py",
   "mimetype": "text/x-python",
   "name": "python",
   "nbconvert_exporter": "python",
   "pygments_lexer": "ipython3",
   "version": "3.6.13"
  },
  "toc": {
   "base_numbering": 1,
   "nav_menu": {},
   "number_sections": true,
   "sideBar": true,
   "skip_h1_title": true,
   "title_cell": "Tabla de Contenidos",
   "title_sidebar": "Contenidos",
   "toc_cell": true,
   "toc_position": {
    "height": "calc(100% - 180px)",
    "left": "10px",
    "top": "150px",
    "width": "165px"
   },
   "toc_section_display": true,
   "toc_window_display": true
  }
 },
 "nbformat": 4,
 "nbformat_minor": 5
}
